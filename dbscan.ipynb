{
 "cells": [
  {
   "cell_type": "code",
   "execution_count": null,
   "id": "adae427d-a5ac-48e6-9718-73de0049957e",
   "metadata": {},
   "outputs": [],
   "source": [
    "import pandas as pd\n",
    "import numpy as np\n",
    "data = pd.read_csv('')\n",
    "data.info()\n",
    "data.drop(['CustomerID', 'Genre'], axis = 1, inplace = True)"
   ]
  },
  {
   "cell_type": "code",
   "execution_count": null,
   "id": "3327f540-7665-49ba-b946-e7ac381b6f7f",
   "metadata": {},
   "outputs": [],
   "source": [
    "numerical_columns = data.select_dtypes(include = ['int64', 'float64']).columns.tolist()\n",
    "numerical_columns"
   ]
  },
  {
   "cell_type": "code",
   "execution_count": null,
   "id": "e620c42b-5eb7-4072-a942-b1a9d1d16e6e",
   "metadata": {},
   "outputs": [],
   "source": [
    "data[numerical_columns]"
   ]
  },
  {
   "cell_type": "code",
   "execution_count": null,
   "id": "5569885c-84cb-45c3-aa38-58da9263ba49",
   "metadata": {},
   "outputs": [],
   "source": [
    "from sklearn.preprocessing import StandardScaler\n",
    "from sklearn.neighbors import NearestNeighbors\n",
    "\n",
    "sc = StandardScaler()\n",
    "data_scaled = sc.fit_transform(data)\n",
    "\n",
    "#find epsilon value\n",
    "neighbor = NearestNeighbors(n_neighbors = 5)\n",
    "neighbordist = neighbor.fit(data_scaled)\n",
    "distance, indices = neighbordist.kneighbors(data_scaled)\n",
    "distance"
   ]
  },
  {
   "cell_type": "code",
   "execution_count": null,
   "id": "facb692c-4bb0-4bf7-b652-ee5dfbfdba78",
   "metadata": {},
   "outputs": [],
   "source": [
    "import matplotlib.pyplot as plt\n",
    "distance = np.sort(distance, axis = 0)\n",
    "plt.plot(distance[:, 4])\n",
    "plt.show()"
   ]
  },
  {
   "cell_type": "code",
   "execution_count": null,
   "id": "5bbd6242-891a-484d-8100-d2b42cca019d",
   "metadata": {},
   "outputs": [],
   "source": [
    "eps = [0.6, 0.7, 0.8, 0.9]\n",
    "min_pts = [4, 5, 6] #2 * no. of dimention i.e. 2*3 = 6 to be chosen\n",
    "\n",
    "from sklearn.cluster import DBSCAN\n",
    "result = []\n",
    "for e in eps:\n",
    "    for n in min_pts:\n",
    "        dbscan = DBSCAN(eps = e, min_samples = n)\n",
    "        y_cluster = dbscan.fit_predict(data_scaled)\n",
    "        n_cluster = len(set(y_cluster)) - (1 if -1 in y_cluster else 0)\n",
    "        n_noise = list(y_cluster).count(-1)\n",
    "        result.append((e, n, n_cluster, n_noise))\n",
    "\n",
    "result_df = pd.DataFrame(result, columns = ['eps', 'minsamples', 'n_clusters', 'n_noise'])\n",
    "result_df"
   ]
  },
  {
   "cell_type": "code",
   "execution_count": null,
   "id": "3c73ce68-d70c-4cd9-9d03-a65c35893cd0",
   "metadata": {},
   "outputs": [],
   "source": [
    "#eps = 0.6 max number of clusters #min_samples = 2 * 3 = 6 as eps increases number of clusters decreases\n",
    "db_model = DBSCAN(eps = 0.6, min_samples = 6)\n",
    "y_cluster = db_model.fit_predict(data_scaled)\n",
    "\n",
    "data['Clusters'] = y_cluster\n",
    "cluster_analysis = data.groupby('Clusters').mean()\n",
    "cluster_analysis"
   ]
  },
  {
   "cell_type": "code",
   "execution_count": null,
   "id": "9d18c909-72dd-445c-a569-f474a6d10006",
   "metadata": {},
   "outputs": [],
   "source": [
    "#with noise data points to identify outlier\n",
    "plt.scatter(data['Annual Income (k$)'], data['Spending Score (1-100)'],\n",
    "            c = data['Clusters'], cmap = 'viridis')\n",
    "plt.xlabel('Annual Income')\n",
    "plt.ylabel('Spending Score')\n",
    "plt.title('DBSCAN for Mall Customer')\n",
    "plt.show()"
   ]
  },
  {
   "cell_type": "code",
   "execution_count": null,
   "id": "55c7686e-d526-4695-86da-ad6af5ca1373",
   "metadata": {},
   "outputs": [],
   "source": [
    "#without noise data points\n",
    "data = data[data['Clusters']!=-1]\n",
    "plt.scatter(data['Annual Income (k$)'], data['Spending Score (1-100)'],\n",
    "            c = data['Clusters'], cmap = 'viridis')\n",
    "plt.xlabel('Annual Income')\n",
    "plt.ylabel('Spending Score')\n",
    "plt.title('DBSCAN for Mall Customer')\n",
    "plt.show()"
   ]
  },
  {
   "cell_type": "code",
   "execution_count": null,
   "id": "6c5a9a6b-7497-48d0-9efe-646fc290d517",
   "metadata": {},
   "outputs": [],
   "source": [
    "from sklearn.metrics import silhouette_score, calinski_harabasz_score, davies_bouldin_score\n",
    "\n",
    "ss_score = silhouette_score(data_scaled, y_cluster)\n",
    "dv_score = davies_bouldin_score(data_scaled, y_cluster)\n",
    "ch_score = calinski_harabasz_score(data_scaled, y_cluster)\n",
    "print('Silhouette Score', ss_score)\n",
    "print('Davis Bouldin', dv_score)\n",
    "print('Calinski Score', ch_score)"
   ]
  }
 ],
 "metadata": {
  "kernelspec": {
   "display_name": "Python 3 (ipykernel)",
   "language": "python",
   "name": "python3"
  },
  "language_info": {
   "codemirror_mode": {
    "name": "ipython",
    "version": 3
   },
   "file_extension": ".py",
   "mimetype": "text/x-python",
   "name": "python",
   "nbconvert_exporter": "python",
   "pygments_lexer": "ipython3",
   "version": "3.9.6"
  }
 },
 "nbformat": 4,
 "nbformat_minor": 5
}
