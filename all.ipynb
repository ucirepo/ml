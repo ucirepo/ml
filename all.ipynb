{
 "cells": [
  {
   "cell_type": "code",
   "execution_count": null,
   "id": "6174a060-b8ef-4cf7-a11e-cfa74bc57334",
   "metadata": {},
   "outputs": [],
   "source": [
    "import pandas as pd\n",
    "import numpy as np\n",
    "import seaborn as sns\n",
    "import matplotlib.pyplot as plt"
   ]
  },
  {
   "cell_type": "code",
   "execution_count": null,
   "id": "0d2771e1-00ec-46c4-8cd7-cca0cc0a8e96",
   "metadata": {},
   "outputs": [],
   "source": [
    "!pip install ucimlrepo"
   ]
  },
  {
   "cell_type": "code",
   "execution_count": null,
   "id": "17e9fee6-5815-4ab0-b72e-c1cc59ecbaa5",
   "metadata": {},
   "outputs": [],
   "source": [
    "from ucimlrepo import fetch_ucirepo\n",
    "data=fetch_ucirepo(id=)"
   ]
  },
  {
   "cell_type": "code",
   "execution_count": null,
   "id": "06025acc-e1fa-4fdb-9141-ed084264a39f",
   "metadata": {},
   "outputs": [],
   "source": [
    "#data=pd.read_csv('data.xls')\n",
    "#X=data.drop('tcol',axis=1)\n",
    "#Y=data['tcol']"
   ]
  },
  {
   "cell_type": "code",
   "execution_count": null,
   "id": "db0c93a7-5a1d-479d-891b-b8b132e106e4",
   "metadata": {},
   "outputs": [],
   "source": [
    "X=data.data.features\n",
    "Y=data.data.targets"
   ]
  },
  {
   "cell_type": "code",
   "execution_count": null,
   "id": "103d0c85-9056-4ce0-8542-ef97d844af79",
   "metadata": {},
   "outputs": [],
   "source": [
    "data=pd.concat([X,Y],axis=1)\n",
    "data"
   ]
  },
  {
   "cell_type": "code",
   "execution_count": null,
   "id": "23f47e4f-e0a2-4e4c-9f6b-4c9892215a70",
   "metadata": {},
   "outputs": [],
   "source": [
    "data.info()"
   ]
  },
  {
   "cell_type": "code",
   "execution_count": null,
   "id": "0168ee30-051d-49b0-a5eb-80cadd2f4ad1",
   "metadata": {},
   "outputs": [],
   "source": [
    "!pip install missingno "
   ]
  },
  {
   "cell_type": "code",
   "execution_count": null,
   "id": "5d3c8452-3995-4b1e-9c25-a737b7a5ec9d",
   "metadata": {},
   "outputs": [],
   "source": [
    "import missingno as msno"
   ]
  },
  {
   "cell_type": "code",
   "execution_count": null,
   "id": "dd2b2d3f-46cd-4b62-9989-eef986c9a0b3",
   "metadata": {},
   "outputs": [],
   "source": [
    "msno.bar(data)"
   ]
  },
  {
   "cell_type": "code",
   "execution_count": null,
   "id": "74496c93-8369-422c-8f3f-c9ee039e78c1",
   "metadata": {},
   "outputs": [],
   "source": [
    "msno.matrix(data)"
   ]
  },
  {
   "cell_type": "markdown",
   "id": "af72c03a-c083-4852-8bf8-c9c1edd07512",
   "metadata": {},
   "source": [
    "import pandas as pd\n",
    "from sklearn.impute import SimpleImputer\n",
    "\n",
    "median_imputer = SimpleImputer(strategy='median')\n",
    "mode_imputer = SimpleImputer(strategy='most_frequent')\n",
    "\n",
    "median_columns = ['X', 'Y']\n",
    "\n",
    "mode_columns = ['A, 'B']\n",
    "\n",
    "df[median_columns] = median_imputer.fit_transform(df[median_columns])\n",
    "\n",
    "df[mode_columns] = mode_imputer.fit_transform(df[mode_columns])"
   ]
  },
  {
   "cell_type": "code",
   "execution_count": null,
   "id": "e7f72183-057a-4ab3-8c7f-23acd624055a",
   "metadata": {},
   "outputs": [],
   "source": [
    "from sklearn.preprocessing import *\n",
    "from sklearn.feature_selection import *\n",
    "from sklearn.linear_model import *\n",
    "from sklearn.metrics import *\n",
    "from sklearn.model_selection import *\n",
    "from sklearn.ensemble import *\n",
    "from sklearn.tree import *\n",
    "from sklearn.impute import *\n",
    "from sklearn.svm import *\n",
    "from sklearn.neural_network import *\n",
    "from sklearn.neighbors import *\n",
    "from sklearn.naive_bayes import *"
   ]
  },
  {
   "cell_type": "code",
   "execution_count": null,
   "id": "a4c1cd06-c133-4688-b3d4-2b60d943ee7a",
   "metadata": {},
   "outputs": [],
   "source": [
    "!pip install mlxtend"
   ]
  },
  {
   "cell_type": "code",
   "execution_count": null,
   "id": "53ab32b2-6bc4-4c71-ac9a-a302c5cec64f",
   "metadata": {},
   "outputs": [],
   "source": [
    "from mlxtend.feature_selection import *"
   ]
  },
  {
   "cell_type": "code",
   "execution_count": null,
   "id": "ee07eb34-00f2-4f48-8b60-b2a48b5eca0d",
   "metadata": {},
   "outputs": [],
   "source": [
    "!pip install statsmodels"
   ]
  },
  {
   "cell_type": "code",
   "execution_count": null,
   "id": "009a075e-d05a-482a-a4e5-04baf745934f",
   "metadata": {},
   "outputs": [],
   "source": [
    "import statsmodels.api as sm"
   ]
  },
  {
   "cell_type": "code",
   "execution_count": null,
   "id": "fe07a8e0-fcd5-4c40-92f8-6904aa5eb247",
   "metadata": {},
   "outputs": [],
   "source": [
    "cat_col=data.select_dtypes(include='object').columns\n",
    "cat_col"
   ]
  },
  {
   "cell_type": "code",
   "execution_count": null,
   "id": "e7c22bb6-0d46-4822-9d28-c0eb4f2267fd",
   "metadata": {},
   "outputs": [],
   "source": [
    "num_col=data.select_dtypes(exclude='object').columns\n",
    "num_col"
   ]
  },
  {
   "cell_type": "code",
   "execution_count": null,
   "id": "09cf6c1e-c8f8-465e-9969-1017d0485be5",
   "metadata": {},
   "outputs": [],
   "source": [
    "for c in cat_col:\n",
    "    lbl=LabelEncoder()\n",
    "    data[c]=lbl.fit_transform(data[c])"
   ]
  },
  {
   "cell_type": "code",
   "execution_count": null,
   "id": "ae740a2b-d93a-48be-b4b9-24b20053c45b",
   "metadata": {},
   "outputs": [],
   "source": [
    "data.info()"
   ]
  },
  {
   "cell_type": "code",
   "execution_count": null,
   "id": "ed6b4fd2-cc56-4409-8979-e7d1263cf4ed",
   "metadata": {},
   "outputs": [],
   "source": [
    "X=data.drop(['class'],axis=1)\n",
    "Y=data['class']"
   ]
  },
  {
   "cell_type": "code",
   "execution_count": null,
   "id": "31c3f9df-3cab-4b6d-a766-b337d4d9969f",
   "metadata": {},
   "outputs": [],
   "source": [
    "skb=SelectKBest(chi2,k=15)\n",
    "skb"
   ]
  },
  {
   "cell_type": "code",
   "execution_count": null,
   "id": "67ab6a9d-ea64-4130-93f7-6da9f2e69993",
   "metadata": {},
   "outputs": [],
   "source": [
    "skb.fit(X,Y)"
   ]
  },
  {
   "cell_type": "code",
   "execution_count": null,
   "id": "dfec4bc9-8b62-4709-97db-c6d8ae051303",
   "metadata": {},
   "outputs": [],
   "source": [
    "best_features=skb.get_feature_names_out()"
   ]
  },
  {
   "cell_type": "code",
   "execution_count": null,
   "id": "73f6f09d-9853-433a-a5cd-bc73e53bafd2",
   "metadata": {},
   "outputs": [],
   "source": [
    "best_features"
   ]
  },
  {
   "cell_type": "code",
   "execution_count": null,
   "id": "2a33dbc0-b4e9-4901-bc0a-28057689e8b8",
   "metadata": {},
   "outputs": [],
   "source": [
    "best_features.tolist()"
   ]
  },
  {
   "cell_type": "code",
   "execution_count": null,
   "id": "6773c77b-4a5e-4429-9e2e-91f2a6f7fd53",
   "metadata": {},
   "outputs": [],
   "source": [
    "Y.value_counts()"
   ]
  },
  {
   "cell_type": "code",
   "execution_count": null,
   "id": "8cd93c04-ad11-4949-aeb1-e572332bf3c8",
   "metadata": {},
   "outputs": [],
   "source": [
    "X_train,X_test,Y_train,Y_test=train_test_split(X,Y,test_size=0.2,random_state=42)"
   ]
  },
  {
   "cell_type": "code",
   "execution_count": null,
   "id": "d2f7873f-ad3b-4ec8-a5c1-39288412a375",
   "metadata": {},
   "outputs": [],
   "source": [
    "lr=LogisticRegression()\n",
    "lr.fit(X_train,Y_train)\n",
    "lr_y_pred=lr.predict(X_test)\n",
    "print(accuracy_score(Y_test,lr_y_pred))\n",
    "print(classification_report(Y_test,lr_y_pred))"
   ]
  },
  {
   "cell_type": "code",
   "execution_count": null,
   "id": "528f094a-1310-4bb9-beb2-657766330a46",
   "metadata": {},
   "outputs": [],
   "source": [
    "cm=confusion_matrix(Y_test,lr_y_pred)\n",
    "print(cm)\n",
    "cmat=ConfusionMatrixDisplay(cm,display_labels=np.unique(Y).tolist())\n",
    "cmat.plot()"
   ]
  },
  {
   "cell_type": "code",
   "execution_count": null,
   "id": "632a0860-d6d9-473c-b481-e8791f5dc858",
   "metadata": {},
   "outputs": [],
   "source": [
    "rf=RandomForestClassifier()\n",
    "rf.fit(X_train,Y_train)\n",
    "rf_y_pred=rf.predict(X_test)\n",
    "print(accuracy_score(Y_test,rf_y_pred))\n",
    "print(classification_report(Y_test,rf_y_pred))"
   ]
  },
  {
   "cell_type": "code",
   "execution_count": null,
   "id": "e70704ef-84b8-4bfc-a913-8a388eec5863",
   "metadata": {},
   "outputs": [],
   "source": [
    "important_feature=rf.feature_importances_\n",
    "print(important_feature)"
   ]
  },
  {
   "cell_type": "code",
   "execution_count": null,
   "id": "d5ab5b4f-a8c9-4ca8-953b-d93d9d71e271",
   "metadata": {},
   "outputs": [],
   "source": [
    "indices=np.argsort(important_feature)[::-1]\n",
    "indices"
   ]
  },
  {
   "cell_type": "code",
   "execution_count": null,
   "id": "bc7dfbe6-c091-415c-905a-2cb645885fe5",
   "metadata": {},
   "outputs": [],
   "source": [
    "X.columns[indices.tolist()]"
   ]
  },
  {
   "cell_type": "code",
   "execution_count": null,
   "id": "49670c74-b6d7-4b40-b08b-646ca10aa13c",
   "metadata": {},
   "outputs": [],
   "source": [
    "indices.tolist()\n",
    "col=[]\n",
    "for i in indices.tolist():\n",
    "    print(X.columns[i])\n",
    "    col.append(X.columns[i])"
   ]
  },
  {
   "cell_type": "code",
   "execution_count": null,
   "id": "5e3e8c70-0774-4db2-b6f1-03a3b45b80d7",
   "metadata": {},
   "outputs": [],
   "source": [
    "plt.figure(figsize=(18,10))\n",
    "plt.title('Feature Importance')\n",
    "plt.bar(col,important_feature[indices],color='b',align='center')\n",
    "plt.xticks(rotation=90)\n",
    "plt.show()"
   ]
  },
  {
   "cell_type": "code",
   "execution_count": null,
   "id": "cbd7145b-7d92-4846-8ffe-bd63ed0f2dac",
   "metadata": {},
   "outputs": [],
   "source": [
    "dt=DecisionTreeClassifier()\n",
    "dt.fit(X_train,Y_train)\n",
    "dt_y_pred=dt.predict(X_test)\n",
    "print(accuracy_score(Y_test,dt_y_pred))\n",
    "print(classification_report(Y_test,dt_y_pred))"
   ]
  },
  {
   "cell_type": "code",
   "execution_count": null,
   "id": "d65959a1-2068-4116-9278-a8dd90d99d8b",
   "metadata": {},
   "outputs": [],
   "source": [
    "sc=StandardScaler()\n",
    "X_scaled=sc.fit_transform(X)"
   ]
  },
  {
   "cell_type": "code",
   "execution_count": null,
   "id": "27dcc9f6-bccf-480c-9747-7a1961714d4f",
   "metadata": {},
   "outputs": [],
   "source": [
    "X_train_s, X_test_s, Y_train, Y_test = train_test_split(X_scaled, Y, test_size = 0.2, random_state = 42)\n",
    "svc = SVC(kernel = 'rbf')\n",
    "svc.fit(X_train_s, Y_train)\n",
    "svc_y_pred = svc.predict(X_test_s)\n",
    "print(accuracy_score(Y_test,svc_y_pred))\n",
    "print(classification_report(Y_test,svc_y_pred))"
   ]
  },
  {
   "cell_type": "code",
   "execution_count": null,
   "id": "a829d509-8174-470b-a760-6c4ffaa82e67",
   "metadata": {},
   "outputs": [],
   "source": [
    "plot_tree(dt,\n",
    "    feature_names=X_train.columns.tolist(),\n",
    "    class_names=np.unique(Y).astype('str').tolist(),\n",
    "    label='all',\n",
    "    filled=True)"
   ]
  },
  {
   "cell_type": "code",
   "execution_count": null,
   "id": "ff4e2a4a-583a-48da-975a-c014dad1487e",
   "metadata": {},
   "outputs": [],
   "source": [
    "x_const=sm.add_constant(X)\n",
    "model=sm.GLM(Y,x_const,family=sm.families.Binomial())\n",
    "result=model.fit()\n",
    "result.summary()"
   ]
  },
  {
   "cell_type": "code",
   "execution_count": null,
   "id": "07c8203c-e398-4d65-804b-624e99414abd",
   "metadata": {},
   "outputs": [],
   "source": [
    "gnb = GaussianNB()\n",
    "gnb.fit(X_train, Y_train)\n",
    "gnb_y_pred = gnb.predict(X_test)\n",
    "accuracy = accuracy_score(Y_test, gnb_y_pred)\n",
    "print('Accuracy:', accuracy)\n",
    "print(classification_report(Y_test, gnb_y_pred))"
   ]
  },
  {
   "cell_type": "code",
   "execution_count": null,
   "id": "7a70bd63-1d56-4b0d-8c9e-05303483d5a3",
   "metadata": {},
   "outputs": [],
   "source": [
    "bag=BaggingClassifier(estimator = DecisionTreeClassifier(),n_estimators = 100, oob_score = True, bootstrap = True)\n",
    "bag.fit(X_train, Y_train)\n",
    "bag_y_pred = bag.predict(X_test)\n",
    "print(accuracy_score(Y_test, bag_y_pred))\n",
    "print(bag.oob_score_)"
   ]
  },
  {
   "cell_type": "code",
   "execution_count": null,
   "id": "20dbfc8c-4944-421d-9365-b00d699eb477",
   "metadata": {},
   "outputs": [],
   "source": [
    "gb = GradientBoostingClassifier(learning_rate = 0.1,\n",
    "                               n_estimators = 100)\n",
    "gb.fit(X_train, Y_train)\n",
    "gb_y_pred = gb.predict(X_test)\n",
    "accuracy_score(Y_test, gb_y_pred)"
   ]
  },
  {
   "cell_type": "code",
   "execution_count": null,
   "id": "b801fd81-c32c-4beb-8e65-c89134fbab11",
   "metadata": {},
   "outputs": [],
   "source": [
    "base_model = [\n",
    "    ('rf', RandomForestClassifier(n_estimators = 100, random_state = 42)),\n",
    "    ('svc', SVC(probability = True, kernel = 'linear'))\n",
    "]\n",
    "meta_model = DecisionTreeClassifier()\n",
    "stk_model = StackingClassifier(estimators = base_model,\n",
    "                              final_estimator = meta_model,\n",
    "                              cv = 5)\n",
    "stk_model.fit(X_train, Y_train)\n",
    "stk_y_pred = stk_model.predict(X_test)\n",
    "accuracy_score(Y_test, stk_y_pred)"
   ]
  },
  {
   "cell_type": "code",
   "execution_count": null,
   "id": "110ae557-466e-4f07-a637-9531c243a530",
   "metadata": {},
   "outputs": [],
   "source": [
    "mlp = MLPClassifier(hidden_layer_sizes = (64, 32), activation = 'relu', solver = 'adam')\n",
    "mlp.fit(X_train, Y_train)\n",
    "m_y_pred = mlp.predict(X_test)\n",
    "accuracy_score(Y_test, m_y_pred)"
   ]
  },
  {
   "cell_type": "code",
   "execution_count": null,
   "id": "cf83f64b-4a14-40b4-9b18-2f9f17adb17b",
   "metadata": {},
   "outputs": [],
   "source": [
    "!pip3 install tensorflow keras"
   ]
  },
  {
   "cell_type": "code",
   "execution_count": null,
   "id": "7641ebbc-da9a-4134-9d20-34b7fefe3cdc",
   "metadata": {},
   "outputs": [],
   "source": [
    "from keras.models import *\n",
    "from keras.layers import *\n",
    "from keras.optimizers import *\n",
    "from keras.regularizers import *"
   ]
  },
  {
   "cell_type": "code",
   "execution_count": null,
   "id": "ef5d704d-a1b1-4db2-a473-ded0d9ae3c04",
   "metadata": {},
   "outputs": [],
   "source": [
    "model=Sequential()"
   ]
  },
  {
   "cell_type": "code",
   "execution_count": null,
   "id": "3d6bf1df-68ce-4b06-836e-23904f8d01df",
   "metadata": {},
   "outputs": [],
   "source": [
    "model.add(Dense(64,activation='relu',kernel_regularizer=l1(0.001),input_shape=(X_train.shape[1],)))"
   ]
  },
  {
   "cell_type": "code",
   "execution_count": null,
   "id": "69af6105-4f47-4596-bcc1-bb4b2634dee0",
   "metadata": {},
   "outputs": [],
   "source": [
    "model.add(Dense(32,activation='relu',kernel_regularizer=l1(0.001)))"
   ]
  },
  {
   "cell_type": "code",
   "execution_count": null,
   "id": "75aee282-5eb8-4d65-b889-4091e27b63bc",
   "metadata": {},
   "outputs": [],
   "source": [
    "model.add(Dense(1,activation='sigmoid'))"
   ]
  },
  {
   "cell_type": "code",
   "execution_count": null,
   "id": "52ccd420-923b-4a5a-9955-3b3cc1173e58",
   "metadata": {},
   "outputs": [],
   "source": [
    "model.summary()"
   ]
  },
  {
   "cell_type": "code",
   "execution_count": null,
   "id": "47e42afb-640a-4a9e-80fc-82928059469a",
   "metadata": {},
   "outputs": [],
   "source": [
    "model.compile(optimizer = 'adam', loss = 'binary_crossentropy', metrics = ['accuracy'])"
   ]
  },
  {
   "cell_type": "code",
   "execution_count": null,
   "id": "92d4a0cd-67e6-463b-ae97-c4e839250cb2",
   "metadata": {},
   "outputs": [],
   "source": [
    "model.fit(X_train,Y_train,epochs=10,validation_split=0.2)"
   ]
  },
  {
   "cell_type": "code",
   "execution_count": null,
   "id": "5143492e-df4e-4eb2-a725-f20513830bc2",
   "metadata": {},
   "outputs": [],
   "source": [
    "loss,accuracy=model.evaluate(X_test,Y_test)"
   ]
  },
  {
   "cell_type": "code",
   "execution_count": null,
   "id": "c978868f-537e-4d31-96b3-6d4988e90cbf",
   "metadata": {},
   "outputs": [],
   "source": [
    "loss"
   ]
  },
  {
   "cell_type": "code",
   "execution_count": null,
   "id": "fe965387-a1b3-4c85-8452-0848c38e9476",
   "metadata": {},
   "outputs": [],
   "source": [
    "accuracy"
   ]
  },
  {
   "cell_type": "code",
   "execution_count": null,
   "id": "c8a6183a-20cd-4c75-948b-c3c6d6534f56",
   "metadata": {},
   "outputs": [],
   "source": [
    "y_pred=model.predict(X_test)"
   ]
  },
  {
   "cell_type": "code",
   "execution_count": null,
   "id": "79b08b50-6e4d-4f6a-b292-028b44a55034",
   "metadata": {},
   "outputs": [],
   "source": [
    "y_pred=(y_pred>0.5).astype('int')"
   ]
  },
  {
   "cell_type": "code",
   "execution_count": null,
   "id": "de9ea6ba-eaa2-45e6-a0f5-288483569134",
   "metadata": {},
   "outputs": [],
   "source": [
    "print(classification_report(Y_test,y_pred))"
   ]
  },
  {
   "cell_type": "code",
   "execution_count": null,
   "id": "1da9ace3-0395-4905-9649-73bce0542dd8",
   "metadata": {},
   "outputs": [],
   "source": []
  }
 ],
 "metadata": {
  "kernelspec": {
   "display_name": "Python 3 (ipykernel)",
   "language": "python",
   "name": "python3"
  },
  "language_info": {
   "codemirror_mode": {
    "name": "ipython",
    "version": 3
   },
   "file_extension": ".py",
   "mimetype": "text/x-python",
   "name": "python",
   "nbconvert_exporter": "python",
   "pygments_lexer": "ipython3",
   "version": "3.9.6"
  }
 },
 "nbformat": 4,
 "nbformat_minor": 5
}
