{
 "cells": [
  {
   "cell_type": "code",
   "execution_count": null,
   "id": "2cf3404f",
   "metadata": {
    "id": "2cf3404f"
   },
   "outputs": [],
   "source": [
    "import pandas as pd\n",
    "import numpy as np\n",
    "from sklearn.preprocessing import StandardScaler,LabelEncoder\n",
    "from sklearn.decomposition import TruncatedSVD,PCA"
   ]
  },
  {
   "cell_type": "code",
   "execution_count": null,
   "id": "2279c3d3",
   "metadata": {
    "id": "2279c3d3",
    "outputId": "bca6e93f-47f8-4faa-ba76-13f03e9f425a"
   },
   "outputs": [],
   "source": [
    "data=pd.read_csv('')\n",
    "data.info()"
   ]
  },
  {
   "cell_type": "code",
   "execution_count": null,
   "id": "00383a7b",
   "metadata": {
    "id": "00383a7b",
    "outputId": "41d2587b-5b69-438f-9282-69ea76d29df6"
   },
   "outputs": [],
   "source": [
    "data.isnull().sum()"
   ]
  },
  {
   "cell_type": "code",
   "execution_count": null,
   "id": "6822e15e",
   "metadata": {
    "id": "6822e15e"
   },
   "outputs": [],
   "source": [
    "X=data.drop(['id','Unnamed: 32','diagnosis'],axis=1)\n",
    "Y=data['diagnosis']\n"
   ]
  },
  {
   "cell_type": "code",
   "execution_count": null,
   "id": "ffeae6a2",
   "metadata": {
    "id": "ffeae6a2"
   },
   "outputs": [],
   "source": [
    "lbl=LabelEncoder()\n",
    "y_encoded=lbl.fit_transform(Y)\n",
    "sc=StandardScaler()\n",
    "X_scaled=sc.fit_transform(X)"
   ]
  },
  {
   "cell_type": "code",
   "execution_count": null,
   "id": "403e4e7b",
   "metadata": {
    "id": "403e4e7b",
    "outputId": "df61cf11-b400-4e88-855c-84adbfe9e2cc"
   },
   "outputs": [],
   "source": [
    "X.shape"
   ]
  },
  {
   "cell_type": "code",
   "execution_count": null,
   "id": "3fd590da",
   "metadata": {
    "id": "3fd590da",
    "outputId": "5b6804ee-258b-465e-cdb0-28e08b5c9f49"
   },
   "outputs": [],
   "source": [
    "#n_components=X.shape[1]-1\n",
    "n_components=min(X.shape)-1\n",
    "n_components"
   ]
  },
  {
   "cell_type": "code",
   "execution_count": null,
   "id": "7b38e290",
   "metadata": {
    "id": "7b38e290"
   },
   "outputs": [],
   "source": [
    "svd=TruncatedSVD(n_components=n_components)\n",
    "data_svd=svd.fit_transform(X_scaled)"
   ]
  },
  {
   "cell_type": "code",
   "execution_count": null,
   "id": "1f111194",
   "metadata": {
    "id": "1f111194",
    "outputId": "19663ab9-6e2a-40f9-82f9-87710d298e66"
   },
   "outputs": [],
   "source": [
    "import matplotlib.pyplot as plt\n",
    "explained_variance=svd.explained_variance_ratio_.cumsum()\n",
    "components=np.arange(n_components)+1\n",
    "plt.plot(components,explained_variance,marker='o')\n",
    "plt.xlabel('Number of Components')\n",
    "plt.ylabel('Explained Variance Ratio cumsum')\n",
    "plt.title('Scree Plot')\n",
    "plt.grid(True)\n",
    "plt.show()   "
   ]
  },
  {
   "cell_type": "code",
   "execution_count": null,
   "id": "98c439aa",
   "metadata": {
    "id": "98c439aa",
    "outputId": "1b195033-b9a4-4bd4-b8b1-a44ede43ddad"
   },
   "outputs": [],
   "source": [
    "cumulative_explained_variance=svd.explained_variance_ratio_.cumsum()\n",
    "n_components=np.argmax(cumulative_explained_variance>=0.95)+1\n",
    "n_components"
   ]
  },
  {
   "cell_type": "code",
   "execution_count": null,
   "id": "9c6b6a83",
   "metadata": {
    "id": "9c6b6a83",
    "outputId": "f85b6ec5-7018-4176-a8bd-6f0c5e0a107d"
   },
   "outputs": [],
   "source": [
    "features=X.columns\n",
    "loadings=svd.components_ #each components as an array\n",
    "svd1=pd.Series(loadings[0],index=features)\n",
    "print('components 1',svd1)\n",
    "svd2=pd.Series(loadings[1],index=features)\n",
    "print('Components 2',svd2)\n",
    "print(loadings.shape)"
   ]
  },
  {
   "cell_type": "code",
   "execution_count": null,
   "id": "4a5a14a9",
   "metadata": {
    "id": "4a5a14a9",
    "outputId": "5778f1f1-2fb9-46f2-ffc6-be1561600bc3"
   },
   "outputs": [],
   "source": [
    "svd_model=TruncatedSVD(n_components=10)\n",
    "data_final=svd_model.fit_transform(X_scaled)\n",
    "svddf=pd.DataFrame(data_final,columns=['SVD1','SVD2','SVD3','SVD4','SVD5','SVD6'\n",
    "                                      ,'SVD7','SVD8','SVD9','SVD10'])\n",
    "final_df=pd.concat([svddf,Y],axis=1)\n",
    "final_df.info()"
   ]
  },
  {
   "cell_type": "code",
   "execution_count": null,
   "id": "902e6c40",
   "metadata": {
    "id": "902e6c40",
    "outputId": "b7b21a2b-81dd-4b44-8f27-f8134f7a1fb8"
   },
   "outputs": [],
   "source": [
    "from sklearn.preprocessing import LabelEncoder\n",
    "from sklearn.model_selection import train_test_split\n",
    "from sklearn.linear_model import LogisticRegression\n",
    "from sklearn.metrics import accuracy_score\n",
    "X=final_df.drop('diagnosis',axis=1)\n",
    "Y=final_df['diagnosis']\n",
    "lbl=LabelEncoder()\n",
    "y_encode=lbl.fit_transform(Y)\n",
    "X_train,X_test,Y_train,Y_test=train_test_split(X,y_encoded,test_size=0.2,\n",
    "                                               random_state=42)\n",
    "lr_model=LogisticRegression(max_iter=1000)\n",
    "lr_model.fit(X_train,Y_train)\n",
    "y_pred=lr_model.predict(X_test)\n",
    "print('Model Accuracy is:',accuracy_score(Y_test,y_pred))\n"
   ]
  },
  {
   "cell_type": "code",
   "execution_count": null,
   "id": "efbb136a",
   "metadata": {
    "id": "efbb136a"
   },
   "outputs": [],
   "source": [
    "from sklearn.manifold import TSNE"
   ]
  },
  {
   "cell_type": "code",
   "execution_count": null,
   "id": "8faf6c6f",
   "metadata": {
    "id": "8faf6c6f",
    "outputId": "245d32de-65a6-4ebc-b226-6bad45e2a0f7"
   },
   "outputs": [],
   "source": [
    "data=pd.read_csv('ANSUR_II_FEMALE.csv')\n",
    "#data.info()\n",
    "data.drop('SNO',axis=1,inplace=True)\n",
    "#take only the numerical columns\n",
    "data_numeric=data.select_dtypes(include=['int64','float64']).dropna()\n",
    "data_numeric.info()"
   ]
  },
  {
   "cell_type": "markdown",
   "id": "79c32aeb",
   "metadata": {
    "id": "79c32aeb"
   },
   "source": [
    "small perplexity value it is used to capture - local structure of data\n",
    "Large perplexity value it is used to capture - global and local structue\n",
    "Rule is by default perplexity value is 30\n",
    "perlexity < 3*sqrt(samples)\n",
    "but best technique is to find the kl divergence\n",
    "The point where the kl divergence is minimum is the perplexity value\n",
    "[5,10,20,30,50,60]\n",
    "n_components=2\n",
    "2D space or 3D space"
   ]
  },
  {
   "cell_type": "code",
   "execution_count": null,
   "id": "3d94ca06",
   "metadata": {
    "id": "3d94ca06",
    "outputId": "858e35fc-b619-433d-d2d5-37a363a17eab"
   },
   "outputs": [],
   "source": [
    "from sklearn.preprocessing import StandardScaler\n",
    "import matplotlib.pyplot as plt\n",
    "perplex=[5,10,20,30,50,60]\n",
    "kl_divergence=[]\n",
    "for p in perplex:\n",
    "    tsne=TSNE(n_components=2,perplexity=p,random_state=42)\n",
    "    tsne.fit_transform(data_numeric)\n",
    "    kl_divergence.append(tsne.kl_divergence_)\n",
    "plt.plot(perplex,kl_divergence,marker='o')\n",
    "plt.xlabel('Perplexity')\n",
    "plt.ylabel('KL Divergence')\n",
    "plt.title('To find the optimal Perplexity')\n",
    "plt.grid(True)\n",
    "plt.show()\n"
   ]
  },
  {
   "cell_type": "markdown",
   "id": "691e091e",
   "metadata": {
    "id": "691e091e"
   },
   "source": [
    "Learning Rate - optimization parameter\n",
    "very low - get stuck in lical minima\n",
    "very high - unstable updates\n",
    "LR- default-200\n",
    "small ds - 50 -100\n",
    "LDS - 500 -1000"
   ]
  },
  {
   "cell_type": "code",
   "execution_count": null,
   "id": "f556e6d1",
   "metadata": {
    "id": "f556e6d1",
    "outputId": "6daaa87d-0534-4a37-bf28-2baa92a4cb89"
   },
   "outputs": [],
   "source": [
    "#The divergence is less at 50 first huge decrease happens at this point\n",
    "tsne=TSNE(n_components=2,perplexity=50,learning_rate=100,n_iter=1000)\n",
    "sc=StandardScaler()\n",
    "X_scaled=sc.fit_transform(data_numeric)\n",
    "data_final=tsne.fit_transform(X_scaled)\n"
   ]
  },
  {
   "cell_type": "code",
   "execution_count": null,
   "id": "388e5a2e",
   "metadata": {
    "id": "388e5a2e"
   },
   "outputs": [],
   "source": [
    "component1=data_final[:,0]\n",
    "component2=data_final[:,1]"
   ]
  },
  {
   "cell_type": "code",
   "execution_count": null,
   "id": "39af66bc",
   "metadata": {
    "id": "39af66bc",
    "outputId": "3aeee47a-c5c1-486c-90d8-d69bb620bffc"
   },
   "outputs": [],
   "source": [
    "print(component1)"
   ]
  },
  {
   "cell_type": "code",
   "execution_count": null,
   "id": "e5b11c12",
   "metadata": {
    "id": "e5b11c12",
    "outputId": "4c9347bd-41e2-4e9e-f041-fc43fafe002e"
   },
   "outputs": [],
   "source": [
    "data.info()"
   ]
  },
  {
   "cell_type": "code",
   "execution_count": null,
   "id": "deb4ddab",
   "metadata": {
    "id": "deb4ddab",
    "outputId": "148ab482-75a9-4919-d9dc-f7d41172fc99"
   },
   "outputs": [],
   "source": [
    "import matplotlib.pyplot as plt\n",
    "import seaborn as sns\n",
    "plt.figure(figsize=(18,8))\n",
    "plt.scatter(data_final[:,0],data_final[:,1],alpha=0.5)\n",
    "plt.xlabel('TSNE Component 1')\n",
    "plt.ylabel('TSNE Component 2')\n",
    "plt.title('TSNE')\n",
    "plt.grid(True)\n",
    "plt.show()\n"
   ]
  },
  {
   "cell_type": "code",
   "execution_count": null,
   "id": "3308065f",
   "metadata": {
    "id": "3308065f",
    "outputId": "db0c6cb9-fb24-471b-9911-ab809f067dc9"
   },
   "outputs": [],
   "source": [
    "data_df=pd.DataFrame()\n",
    "data_df['TSNE Comp1']=data_final[:,0]\n",
    "data_df['TSNE Comp2']=data_final[:,1]\n",
    "data_df['Height']=data['Height_class']\n",
    "data_df.info()\n",
    "sns.scatterplot(x='TSNE Comp1',y='TSNE Comp2',data=data_df,hue='Height')\n",
    "plt.show()"
   ]
  },
  {
   "cell_type": "code",
   "execution_count": null,
   "id": "894a2c44",
   "metadata": {
    "id": "894a2c44",
    "outputId": "1456a4c8-f809-434f-ceb9-b0e26f4a9acc"
   },
   "outputs": [],
   "source": [
    "X=data_df.drop('Height',axis=1)\n",
    "Y=data_df['Height']\n",
    "lbl=LabelEncoder()\n",
    "y_encode=lbl.fit_transform(Y)\n",
    "X_train,X_test,Y_train,Y_test=train_test_split(X,y_encode,test_size=0.2,\n",
    "                                               random_state=42)\n",
    "lr_model=LogisticRegression()\n",
    "lr_model.fit(X_train,Y_train)\n",
    "y_pred=lr_model.predict(X_test)\n",
    "print(accuracy_score(Y_test,y_pred))\n"
   ]
  },
  {
   "cell_type": "code",
   "execution_count": null,
   "id": "76e14176",
   "metadata": {
    "id": "76e14176"
   },
   "outputs": [],
   "source": []
  }
 ],
 "metadata": {
  "colab": {
   "provenance": []
  },
  "kernelspec": {
   "display_name": "Python 3 (ipykernel)",
   "language": "python",
   "name": "python3"
  },
  "language_info": {
   "codemirror_mode": {
    "name": "ipython",
    "version": 3
   },
   "file_extension": ".py",
   "mimetype": "text/x-python",
   "name": "python",
   "nbconvert_exporter": "python",
   "pygments_lexer": "ipython3",
   "version": "3.9.6"
  }
 },
 "nbformat": 4,
 "nbformat_minor": 5
}
