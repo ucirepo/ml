{
 "cells": [
  {
   "cell_type": "code",
   "execution_count": null,
   "metadata": {
    "colab": {
     "base_uri": "https://localhost:8080/"
    },
    "id": "1muoxwu3P0q_",
    "outputId": "0f82bc11-e16f-4398-92ce-2b89f6463b9b"
   },
   "outputs": [],
   "source": [
    "from keras.datasets import mnist,cifar10\n",
    "from keras.layers import Dense\n",
    "(X_train,_),(X_test,_)=mnist.load_data()\n",
    "#(X_train,_),(X_test,_)=cifar10.load_data()\n",
    "print(X_train.shape)\n",
    "print(X_test.shape)"
   ]
  },
  {
   "cell_type": "code",
   "execution_count": null,
   "metadata": {
    "colab": {
     "base_uri": "https://localhost:8080/",
     "height": 430
    },
    "id": "JWAeTNEyQ-hG",
    "outputId": "30e63d45-ad4d-4d2d-af2a-2db2f6337365"
   },
   "outputs": [],
   "source": [
    "import matplotlib.pyplot as plt\n",
    "plt.imshow(X_train[1])\n",
    "plt.gray()"
   ]
  },
  {
   "cell_type": "code",
   "execution_count": null,
   "metadata": {
    "id": "R6bthmCSRUHg"
   },
   "outputs": [],
   "source": [
    "#normlaize the image\n",
    "X_train=X_train.astype('float32')/255\n",
    "X_test=X_test.astype('float32')/255"
   ]
  },
  {
   "cell_type": "code",
   "execution_count": null,
   "metadata": {
    "id": "o8DMewcURfd2"
   },
   "outputs": [],
   "source": [
    "import numpy as np\n",
    "#convert image to array of dimension height*width*3 or height*width\n",
    "np.prod(X_train.shape[1:])\n",
    "X_train=X_train.reshape(len(X_train),np.prod(X_train.shape[1:]))\n",
    "X_test=X_test.reshape(len(X_test),np.prod(X_test.shape[1:]))"
   ]
  },
  {
   "cell_type": "code",
   "execution_count": null,
   "metadata": {
    "colab": {
     "base_uri": "https://localhost:8080/"
    },
    "id": "XchhgV5-SJSh",
    "outputId": "bba1881d-9a4c-493d-aa43-1668fa051b36"
   },
   "outputs": [],
   "source": [
    "X_train.shape"
   ]
  },
  {
   "cell_type": "code",
   "execution_count": null,
   "metadata": {
    "colab": {
     "base_uri": "https://localhost:8080/",
     "height": 375
    },
    "id": "z_9OsjatSW3L",
    "outputId": "369f33cf-e7cd-4d68-f693-a15a4b99a66c"
   },
   "outputs": [],
   "source": [
    "import keras\n",
    "input_img=keras.Input(shape=(np.prod(X_train.shape[1:]),))\n",
    "encoded=Dense(128,activation='relu')(input_img)\n",
    "encoded=Dense(64,activation='relu')(encoded)\n",
    "encoded=Dense(32,activation='relu')(encoded)#code layer or bottleneck layer\n",
    "decoded=Dense(64,activation='relu')(encoded)\n",
    "decoded=Dense(128,activation='relu')(decoded)\n",
    "decoded=Dense(np.prod(X_train.shape[1:]),activation='sigmoid')(decoded)\n",
    "autoencoded=keras.Model(input_img,decoded)\n",
    "autoencoded.summary()"
   ]
  },
  {
   "cell_type": "code",
   "execution_count": null,
   "metadata": {
    "colab": {
     "base_uri": "https://localhost:8080/"
    },
    "id": "4iiDm1IoTtIO",
    "outputId": "0ce1c7f9-4a0e-41a5-c7f7-e9d20a9d74fe"
   },
   "outputs": [],
   "source": [
    "autoencoded.compile(optimizer='adam',loss='binary_crossentropy')\n",
    "autoencoded.fit(X_train,X_train,epochs=50,batch_size=256,\n",
    "                validation_data=(X_test,X_test))"
   ]
  },
  {
   "cell_type": "markdown",
   "metadata": {
    "id": "kecFfhSJUIpE"
   },
   "source": [
    "#batch_size=32,64,256"
   ]
  },
  {
   "cell_type": "code",
   "execution_count": null,
   "metadata": {
    "colab": {
     "base_uri": "https://localhost:8080/"
    },
    "id": "h8Y9SYREUrUb",
    "outputId": "6be50fc0-d65a-47c5-8de6-c2ac0bab42df"
   },
   "outputs": [],
   "source": [
    "reconstructed_image=autoencoded.predict(X_test)\n"
   ]
  },
  {
   "cell_type": "code",
   "execution_count": null,
   "metadata": {
    "colab": {
     "base_uri": "https://localhost:8080/",
     "height": 237
    },
    "id": "snCSJTC7U3sf",
    "outputId": "95547bee-ac6c-4fc1-e6c4-d5807775a81f"
   },
   "outputs": [],
   "source": [
    "n=10\n",
    "plt.figure(figsize=(18,8))\n",
    "for i in range(n):\n",
    "  ax=plt.subplot(2,n,i+1)\n",
    "  plt.imshow(X_test[i].reshape(28,28))\n",
    "  plt.gray()\n",
    "  ax.get_xaxis().set_visible(False)\n",
    "  ax.get_yaxis().set_visible(False)\n",
    "  #reconstructed image\n",
    "  ax=plt.subplot(2,n,i+1+n)\n",
    "  plt.imshow(reconstructed_image[i].reshape(28,28))\n",
    "  plt.gray()\n",
    "  ax.get_xaxis().set_visible(False)\n",
    "  ax.get_yaxis().set_visible(False)\n",
    "plt.show()\n",
    "\n"
   ]
  },
  {
   "cell_type": "markdown",
   "metadata": {
    "id": "BJL-MU_gTXyC"
   },
   "source": []
  },
  {
   "cell_type": "markdown",
   "metadata": {
    "id": "n6xyB9LdTXWS"
   },
   "source": []
  }
 ],
 "metadata": {
  "colab": {
   "provenance": []
  },
  "kernelspec": {
   "display_name": "Python 3 (ipykernel)",
   "language": "python",
   "name": "python3"
  },
  "language_info": {
   "codemirror_mode": {
    "name": "ipython",
    "version": 3
   },
   "file_extension": ".py",
   "mimetype": "text/x-python",
   "name": "python",
   "nbconvert_exporter": "python",
   "pygments_lexer": "ipython3",
   "version": "3.9.6"
  }
 },
 "nbformat": 4,
 "nbformat_minor": 4
}
