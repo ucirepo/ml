{
 "cells": [
  {
   "cell_type": "code",
   "execution_count": null,
   "id": "325c87cc",
   "metadata": {
    "id": "325c87cc",
    "outputId": "43ea0a93-4baa-4e93-b19b-da1b7f26609b"
   },
   "outputs": [],
   "source": [
    "import pandas as pd\n",
    "import numpy as np\n",
    "#csv or xls\n",
    "data=pd.read_csv('')\n",
    "#xlsx\n",
    "#data=pd.read_excel('')\n",
    "data.info()\n",
    "\n"
   ]
  },
  {
   "cell_type": "code",
   "execution_count": null,
   "id": "c9b15e03",
   "metadata": {
    "id": "c9b15e03",
    "outputId": "f616081d-845d-428e-c4a3-c375979ce58b"
   },
   "outputs": [],
   "source": [
    "from sklearn.model_selection import train_test_split\n",
    "from sklearn.naive_bayes import GaussianNB\n",
    "from sklearn.metrics import accuracy_score,classification_report\n",
    "X=data.drop('Outcome',axis=1)\n",
    "Y=data['Outcome']\n",
    "X_train,X_test,Y_train,Y_test=train_test_split(X,Y,test_size=0.2,\n",
    "                                               random_state=42)\n",
    "gnb=GaussianNB()\n",
    "#train my model\n",
    "gnb.fit(X_train,Y_train)\n",
    "#predict\n",
    "y_pred=gnb.predict(X_test)\n",
    "print(accuracy_score(Y_test,y_pred))\n",
    "print(classification_report(Y_test,y_pred))\n"
   ]
  },
  {
   "cell_type": "code",
   "execution_count": null,
   "id": "68f7c60b",
   "metadata": {
    "id": "68f7c60b"
   },
   "outputs": [],
   "source": []
  }
 ],
 "metadata": {
  "colab": {
   "provenance": []
  },
  "kernelspec": {
   "display_name": "Python 3 (ipykernel)",
   "language": "python",
   "name": "python3"
  },
  "language_info": {
   "codemirror_mode": {
    "name": "ipython",
    "version": 3
   },
   "file_extension": ".py",
   "mimetype": "text/x-python",
   "name": "python",
   "nbconvert_exporter": "python",
   "pygments_lexer": "ipython3",
   "version": "3.9.6"
  }
 },
 "nbformat": 4,
 "nbformat_minor": 5
}
