{
 "cells": [
  {
   "cell_type": "code",
   "execution_count": null,
   "id": "c8064cbe",
   "metadata": {},
   "outputs": [],
   "source": [
    "import pandas as pd \n",
    "import numpy as np "
   ]
  },
  {
   "cell_type": "code",
   "execution_count": null,
   "id": "932b7651",
   "metadata": {},
   "outputs": [],
   "source": [
    "data=pd.read_csv('')\n",
    "data.info()"
   ]
  },
  {
   "cell_type": "code",
   "execution_count": null,
   "id": "605ff874",
   "metadata": {},
   "outputs": [],
   "source": [
    "data.drop('SNO',axis=1,inplace=True)"
   ]
  },
  {
   "cell_type": "code",
   "execution_count": null,
   "id": "c6fd0c10",
   "metadata": {},
   "outputs": [],
   "source": [
    "#outliers analysis \n",
    "numerical_col=data.select_dtypes(include=['int64','float64']).columns\n",
    "data[numerical_col]"
   ]
  },
  {
   "cell_type": "code",
   "execution_count": null,
   "id": "b2bde1e0",
   "metadata": {},
   "outputs": [],
   "source": [
    "from scipy.stats import zscore"
   ]
  },
  {
   "cell_type": "code",
   "execution_count": null,
   "id": "62334443",
   "metadata": {},
   "outputs": [],
   "source": [
    "z_score=data[numerical_col].apply(zscore)\n",
    "outlier=(z_score.abs()>3).any(axis=1)\n",
    "data_cleaned=data[~outlier].reset_index(drop=True) # ~ means not \n",
    "print(data_cleaned.shape)\n",
    "print(data.shape)"
   ]
  },
  {
   "cell_type": "code",
   "execution_count": null,
   "id": "eef4f4b9",
   "metadata": {},
   "outputs": [],
   "source": [
    "from sklearn.preprocessing import StandardScaler,LabelEncoder"
   ]
  },
  {
   "cell_type": "code",
   "execution_count": null,
   "id": "48732444",
   "metadata": {},
   "outputs": [],
   "source": [
    "sc=StandardScaler()\n",
    "data_cleaned[numerical_col]=sc.fit_transform(data_cleaned[numerical_col])\n",
    "categorical_col=data_cleaned.select_dtypes(include='object').columns\n",
    "print(categorical_col)\n",
    "for col in categorical_col:\n",
    "    lbl=LabelEncoder()\n",
    "    data_cleaned[col]=lbl.fit_transform(data_cleaned[col])"
   ]
  },
  {
   "cell_type": "code",
   "execution_count": null,
   "id": "c356a36e",
   "metadata": {},
   "outputs": [],
   "source": [
    "from sklearn.model_selection import train_test_split"
   ]
  },
  {
   "cell_type": "code",
   "execution_count": null,
   "id": "266eae4a",
   "metadata": {},
   "outputs": [],
   "source": [
    "x=data_cleaned.drop('BMI_class',axis=1)\n",
    "y=data_cleaned['BMI_class']"
   ]
  },
  {
   "cell_type": "code",
   "execution_count": null,
   "id": "d92868f3",
   "metadata": {},
   "outputs": [],
   "source": [
    "x_train,x_test,y_train,y_test=train_test_split(x,y,test_size=0.2,random_state=42)"
   ]
  },
  {
   "cell_type": "code",
   "execution_count": null,
   "id": "94081fb9",
   "metadata": {},
   "outputs": [],
   "source": [
    "from sklearn.neural_network import MLPClassifier\n",
    "from sklearn.metrics import classification_report,accuracy_score"
   ]
  },
  {
   "cell_type": "markdown",
   "id": "fbae131d",
   "metadata": {},
   "source": [
    "bulid a back propagation with 2 hidden layer application for large dataset"
   ]
  },
  {
   "cell_type": "code",
   "execution_count": null,
   "id": "9b462d23",
   "metadata": {},
   "outputs": [],
   "source": [
    "# activation - relu tanh logistic \n",
    "# solver - sgd, rmsprop, adam\n",
    "# lerning rate  - 0 to 1 very minimumm\n",
    "# max_iter - epox - only on tenserrflow "
   ]
  },
  {
   "cell_type": "code",
   "execution_count": null,
   "id": "267b34d3",
   "metadata": {},
   "outputs": [],
   "source": [
    "mlp=MLPClassifier(hidden_layer_sizes=(128,64),activation='relu',solver='adam',max_iter=300,random_state=42)\n",
    "mlp.fit(x_train,y_train)\n",
    "y_pred=mlp.predict(x_test)\n",
    "print('Accuracy Score',accuracy_score(y_test,y_pred))\n",
    "print('Classification report', classification_report(y_test,y_pred))"
   ]
  },
  {
   "cell_type": "code",
   "execution_count": null,
   "id": "0681db03",
   "metadata": {},
   "outputs": [],
   "source": [
    "!pip install tensorflow"
   ]
  },
  {
   "cell_type": "code",
   "execution_count": null,
   "id": "8ba9e9ca",
   "metadata": {},
   "outputs": [],
   "source": [
    "import tensorflow as tf \n",
    "from keras.models import Sequential\n",
    "from keras.layers import Dense\n",
    "from keras.optimizers import Adam,SGD\n",
    "from keras.regularizers import l1,l2"
   ]
  },
  {
   "cell_type": "code",
   "execution_count": null,
   "id": "d3474d3b",
   "metadata": {},
   "outputs": [],
   "source": [
    "model=Sequential()\n",
    "model.add(Dense(units=128,activation='relu',kernel_regularizer=l2(0.001),input_shape=(x_train.shape[1],)))\n",
    "model.add(Dense(units=64,activation='relu',kernel_regularizer=l2(0.001)))\n",
    "#output layer\n",
    "model.add(Dense(units=3,activation='softmax'))\n",
    "# if it is binary classification \n",
    "# model.add(Dense(units=1,activation='sigmoid))\n",
    "model.summary()"
   ]
  },
  {
   "cell_type": "code",
   "execution_count": null,
   "id": "a3001cc6",
   "metadata": {},
   "outputs": [],
   "source": [
    "x_train.shape[1]\n",
    "# param - no of inputs nodes* nodes in output layes for each layerss + node in output layes \n",
    "# 98*128+128=12672\n",
    "# hidden layer input and hidden layer 2 is the output \n",
    "# 128*64+64=8256\n",
    "# hiddenlayer 2 is thinput and output layer is the output \n",
    "# 129*3+3=195\n",
    "\n",
    "# all add=21123 number of trainnable model"
   ]
  },
  {
   "cell_type": "code",
   "execution_count": null,
   "id": "bbed24ab",
   "metadata": {},
   "outputs": [],
   "source": [
    "model.compile(optimizer='Adam',loss='sparse_categorical_crossentropy',\n",
    "             metrics=['accuracy'])\n",
    "# losss ='sparse_categorical_crossentropy' when encoding for target column is multiclass \n",
    "#loss = \"categorical_crossentropy\"when encoding for multiclass target class is \n",
    "# loss- "
   ]
  },
  {
   "cell_type": "code",
   "execution_count": null,
   "id": "c76ace5e",
   "metadata": {},
   "outputs": [],
   "source": [
    "from keras.callbacks import EarlyStopping\n",
    "early_stopping=EarlyStopping(monitor='val_accuracy',patience=10,verbose=0)\n",
    "#monitor loss/val_loss"
   ]
  },
  {
   "cell_type": "code",
   "execution_count": null,
   "id": "be181d8c",
   "metadata": {},
   "outputs": [],
   "source": [
    "model.fit(x_train,y_train,epochs=20,batch_size=32,validation_split=0.2,callbacks=[early_stopping])"
   ]
  },
  {
   "cell_type": "code",
   "execution_count": null,
   "id": "d9295f06",
   "metadata": {},
   "outputs": [],
   "source": [
    "loss,accuracy=model.evaluate(x_test,y_test)\n",
    "print(loss)\n",
    "print(accuracy)"
   ]
  },
  {
   "cell_type": "code",
   "execution_count": null,
   "id": "d2890f82",
   "metadata": {},
   "outputs": [],
   "source": [
    "for layer in model.layers:\n",
    "    print('Layer name',layer.name)\n",
    "    print('Layer weights',layer.get_weights())\n",
    "    "
   ]
  },
  {
   "cell_type": "code",
   "execution_count": null,
   "id": "8758c206",
   "metadata": {},
   "outputs": [],
   "source": []
  }
 ],
 "metadata": {
  "kernelspec": {
   "display_name": "Python 3 (ipykernel)",
   "language": "python",
   "name": "python3"
  },
  "language_info": {
   "codemirror_mode": {
    "name": "ipython",
    "version": 3
   },
   "file_extension": ".py",
   "mimetype": "text/x-python",
   "name": "python",
   "nbconvert_exporter": "python",
   "pygments_lexer": "ipython3",
   "version": "3.9.6"
  }
 },
 "nbformat": 4,
 "nbformat_minor": 5
}
