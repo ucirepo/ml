{
 "cells": [
  {
   "cell_type": "code",
   "execution_count": null,
   "id": "b822b799",
   "metadata": {
    "id": "b822b799",
    "outputId": "49181fea-b77b-46f9-a275-e8e72322102a"
   },
   "outputs": [],
   "source": [
    "import pandas as pd\n",
    "import numpy as np\n",
    "data=pd.read_csv('')\n",
    "data.info()"
   ]
  },
  {
   "cell_type": "code",
   "execution_count": null,
   "id": "d734b629",
   "metadata": {
    "id": "d734b629",
    "outputId": "20b9c80f-7a28-4b9a-a64f-679fcde2cebd"
   },
   "outputs": [],
   "source": [
    "data.isnull().sum()"
   ]
  },
  {
   "cell_type": "code",
   "execution_count": null,
   "id": "5a8d2b04",
   "metadata": {
    "id": "5a8d2b04",
    "outputId": "0eed5205-d038-49db-cbca-84711777455e"
   },
   "outputs": [],
   "source": [
    "data.isin(['',' ']).sum()\n",
    "data['TotalCharges']=pd.to_numeric(data['TotalCharges'],errors='coerce')\n",
    "#when u convert to numeric blank spaces will be error , the coerce will fill\n",
    "#with NaN\n",
    "import seaborn as sns\n",
    "import matplotlib.pyplot as plt\n",
    "sns.histplot(data['TotalCharges'],kde=True)\n",
    "plt.show()"
   ]
  },
  {
   "cell_type": "code",
   "execution_count": null,
   "id": "b4ff914a",
   "metadata": {
    "id": "b4ff914a"
   },
   "outputs": [],
   "source": [
    "from sklearn.impute import SimpleImputer\n",
    "si=SimpleImputer(strategy='median')\n",
    "data['TotalCharges']=si.fit_transform(data[['TotalCharges']])\n"
   ]
  },
  {
   "cell_type": "code",
   "execution_count": null,
   "id": "68430052",
   "metadata": {
    "id": "68430052",
    "outputId": "63d882d1-fd79-4197-aaf8-4c56753c4ef2"
   },
   "outputs": [],
   "source": [
    "from sklearn.preprocessing import LabelEncoder\n",
    "col_names=data.select_dtypes('object').columns\n",
    "for col in col_names:\n",
    "    lbl=LabelEncoder()\n",
    "    data[col]=lbl.fit_transform(data[col])\n",
    "data.info()"
   ]
  },
  {
   "cell_type": "code",
   "execution_count": null,
   "id": "51018d30",
   "metadata": {
    "id": "51018d30"
   },
   "outputs": [],
   "source": [
    "from sklearn.preprocessing import StandardScaler\n",
    "X=data.drop(['customerID','Churn'],axis=1)\n",
    "Y=data['Churn']\n",
    "sc=StandardScaler()\n",
    "X_Scaled=sc.fit_transform(X)"
   ]
  },
  {
   "cell_type": "code",
   "execution_count": null,
   "id": "53d69df3",
   "metadata": {
    "id": "53d69df3",
    "outputId": "a7f4b4e6-313f-46e5-f548-0ad2db64ef01"
   },
   "outputs": [],
   "source": [
    "from sklearn.ensemble import BaggingClassifier\n",
    "from sklearn.tree import DecisionTreeClassifier\n",
    "from sklearn.model_selection import train_test_split,cross_val_score\n",
    "from sklearn.metrics import accuracy_score\n",
    "bg_model=BaggingClassifier(estimator=DecisionTreeClassifier(),\n",
    "                           n_estimators=100,\n",
    "                          bootstrap=True,\n",
    "                          oob_score=True,max_samples=0.8,\n",
    "                          random_state=42)\n",
    "X_train,X_test,Y_train,Y_test=train_test_split(X_Scaled,Y,\n",
    "                                              test_size=0.2,random_state=42)\n",
    "bg_model.fit(X_train,Y_train)\n",
    "y_pred=bg_model.predict(X_test)\n",
    "print('Accuracy Score is:',accuracy_score(Y_test,y_pred))\n",
    "print('Out of Box Score is:',bg_model.oob_score_)\n",
    "score=cross_val_score(DecisionTreeClassifier(),X,Y,cv=5)\n",
    "print(score.mean())\n",
    "bg_score=cross_val_score(bg_model,X,Y,cv=5)\n",
    "print(bg_score.mean())\n"
   ]
  },
  {
   "cell_type": "code",
   "execution_count": null,
   "id": "03002368",
   "metadata": {
    "id": "03002368"
   },
   "outputs": [],
   "source": [
    "from sklearn.ensemble import GradientBoostingClassifier"
   ]
  },
  {
   "cell_type": "code",
   "execution_count": null,
   "id": "3f673f9c",
   "metadata": {
    "id": "3f673f9c",
    "outputId": "cc37cfa5-00ad-43ed-b484-52ffe9923668"
   },
   "outputs": [],
   "source": [
    "gradient_boost_model=GradientBoostingClassifier(n_estimators=100,\n",
    "                                               learning_rate=0.1,\n",
    "                                               max_depth=3,random_state=42)\n",
    "gradient_boost_model.fit(X_train,Y_train)\n",
    "y_gb_predict=gradient_boost_model.predict(X_test)\n",
    "print('Accuracy is:',accuracy_score(Y_test,y_gb_predict))\n",
    "#n_estimators - number of boosting stages\n",
    "#learning_rate->shrinks the contribution of each tree so the learning rate to avoid\n",
    "#trade off between LR and the n_estimatore this is low value\n",
    "#max_depth=it is used to control the depth of the tree\n"
   ]
  },
  {
   "cell_type": "code",
   "execution_count": null,
   "id": "37859d96",
   "metadata": {
    "id": "37859d96"
   },
   "outputs": [],
   "source": [
    "#stacking Classifier\n",
    "from sklearn.ensemble import RandomForestClassifier,GradientBoostingClassifier\n",
    "from sklearn.svm import SVC\n",
    "from sklearn.linear_model import LogisticRegression\n",
    "from sklearn.tree import DecisionTreeClassifier"
   ]
  },
  {
   "cell_type": "code",
   "execution_count": null,
   "id": "2bbe0ee7",
   "metadata": {
    "id": "2bbe0ee7",
    "outputId": "a4bd7e4e-2408-4599-a945-0aea2dd62cb2"
   },
   "outputs": [],
   "source": [
    "from sklearn.ensemble import StackingClassifier\n",
    "base_models=[('rf',RandomForestClassifier(n_estimators=100)),\n",
    "             ('dt',DecisionTreeClassifier()),\n",
    "             ('SVC',SVC(kernel='rbf'))\n",
    "            ]\n",
    "meta_model=GradientBoostingClassifier()\n",
    "stacking_model=StackingClassifier(estimators=base_models,\n",
    "                                 final_estimator=meta_model,\n",
    "                                 cv=5,#cross validation by defualt None u 5 or 10\n",
    "                                 stack_method='auto')\n",
    "stacking_model.fit(X_train,Y_train)\n",
    "y_pred_stack=stacking_model.predict(X_test)\n",
    "print('Accuracy is:',accuracy_score(Y_test,y_pred_stack))\n",
    "\n"
   ]
  },
  {
   "cell_type": "markdown",
   "id": "cdb591cb",
   "metadata": {
    "id": "cdb591cb"
   },
   "source": [
    "StackingClassifier(\n",
    "    estimators,#base model\n",
    "    final_estimator=None,#meta model\n",
    "    *,\n",
    "    cv=None,\n",
    "    stack_method='auto',\n",
    "    n_jobs=None,\n",
    "    passthrough=False,\n",
    "    verbose=0,\n",
    ")"
   ]
  }
 ],
 "metadata": {
  "colab": {
   "provenance": []
  },
  "kernelspec": {
   "display_name": "Python 3 (ipykernel)",
   "language": "python",
   "name": "python3"
  },
  "language_info": {
   "codemirror_mode": {
    "name": "ipython",
    "version": 3
   },
   "file_extension": ".py",
   "mimetype": "text/x-python",
   "name": "python",
   "nbconvert_exporter": "python",
   "pygments_lexer": "ipython3",
   "version": "3.9.6"
  }
 },
 "nbformat": 4,
 "nbformat_minor": 5
}
