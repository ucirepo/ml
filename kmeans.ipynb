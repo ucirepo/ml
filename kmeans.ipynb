{
 "cells": [
  {
   "cell_type": "code",
   "execution_count": null,
   "id": "920c2561-9fb4-4ac6-8625-92c3b5724af0",
   "metadata": {},
   "outputs": [],
   "source": [
    "!pip3 install yellowbrick\n",
    "\n",
    "import pandas as pd\n",
    "import numpy as np\n",
    "data=pd.read_csv('')\n",
    "data.info()"
   ]
  },
  {
   "cell_type": "code",
   "execution_count": null,
   "id": "e3615686-dca5-4076-be14-9f1f435aefee",
   "metadata": {},
   "outputs": [],
   "source": [
    "data.drop('CustomerID', axis = 1, inplace = True)"
   ]
  },
  {
   "cell_type": "code",
   "execution_count": null,
   "id": "f2ec352a-bcd3-46ba-9e98-b343cff5097d",
   "metadata": {},
   "outputs": [],
   "source": [
    "from sklearn.cluster import KMeans\n",
    "from sklearn.metrics import silhouette_samples,silhouette_score\n",
    "from yellowbrick.cluster import KElbowVisualizer\n",
    "import matplotlib.pyplot as plt\n",
    "import seaborn as sns\n",
    "%matplotlib inline\n",
    "data.head()"
   ]
  },
  {
   "cell_type": "code",
   "execution_count": null,
   "id": "5223ef28-80a5-41fd-b712-28f3e3cec695",
   "metadata": {},
   "outputs": [],
   "source": [
    "data.corr(numeric_only=True)"
   ]
  },
  {
   "cell_type": "code",
   "execution_count": null,
   "id": "189248dc-a4eb-4113-9d46-0a2b6c5d4527",
   "metadata": {},
   "outputs": [],
   "source": [
    "plt.figure(figsize=(10,6))\n",
    "scatter = sns.scatterplot(x = data['Annual Income (k$)'], y = data['Spending Score (1-100)'], hue = data['Age'],\n",
    "                          palette = 'viridis', size = data['Age'], sizes = (20, 200))\n",
    "plt.title('Scatterplot between AI vs SS w.r.t Age')\n",
    "plt.xlabel('Annual Income', fontsize = 12)\n",
    "plt.ylabel('Spending Score', fontsize = 12)\n",
    "plt.grid(True)\n",
    "plt.show()"
   ]
  },
  {
   "cell_type": "code",
   "execution_count": null,
   "id": "9ff79527-df2e-4236-981d-8c53a49628a8",
   "metadata": {},
   "outputs": [],
   "source": [
    "plt.figure(figsize = (10, 8))\n",
    "sns.scatterplot(x = 'Annual Income (k$)', y = 'Spending Score (1-100)', data = data, alpha = 0.8)\n",
    "plt.show()"
   ]
  },
  {
   "cell_type": "code",
   "execution_count": null,
   "id": "53b7fac7-59b2-4e91-acb7-58cd86d3e25d",
   "metadata": {},
   "outputs": [],
   "source": [
    "from sklearn.preprocessing import StandardScaler\n",
    "data_final = data.drop(['Age', 'Genre'], axis = 1)\n",
    "sc = StandardScaler()\n",
    "data_scaled = sc.fit_transform(data_final)\n",
    "sum_of_squared_distance = []\n",
    "s_score = []\n",
    "k_range = range(2, 10)\n",
    "for k in k_range:\n",
    "    km = KMeans(n_clusters = k, random_state = 42)\n",
    "    km.fit(data_scaled)\n",
    "    sum_of_squared_distance.append(km.inertia_)\n",
    "    s_score.append(silhouette_score(data_scaled, km.labels_))\n",
    "sum_of_squared_distance"
   ]
  },
  {
   "cell_type": "code",
   "execution_count": null,
   "id": "984b52bf-d9ff-418e-a260-ef4576b6dc3e",
   "metadata": {},
   "outputs": [],
   "source": [
    "plt.figure(figsize = (15, 5))\n",
    "plt.subplot(1, 2, 1)\n",
    "plt.plot(k_range, sum_of_squared_distance, marker = 'o')\n",
    "plt.title('Elbow Method - Inertia')\n",
    "plt.xlabel('No. of clusters')\n",
    "plt.ylabel('SS distance')\n",
    "plt.subplot(1, 2, 2)\n",
    "plt.plot(k_range, s_score, marker = 'o')\n",
    "plt.title('Elbow Method - SS')\n",
    "plt.xlabel('No. of Clusters')\n",
    "plt.ylabel('Silhouette Score')\n",
    "plt.show()"
   ]
  },
  {
   "cell_type": "code",
   "execution_count": null,
   "id": "16c983b6-1142-47e6-8064-ae695aa955c8",
   "metadata": {},
   "outputs": [],
   "source": [
    "model = KMeans(random_state = 42)\n",
    "visulaizer = KElbowVisualizer(model, k = (2,8), metric = 'silhouette', timings = False)\n",
    "visulaizer.fit(data_scaled)\n",
    "visulaizer.poof()"
   ]
  },
  {
   "cell_type": "code",
   "execution_count": null,
   "id": "14e65007-716c-4e10-b07e-43a2f182d45c",
   "metadata": {},
   "outputs": [],
   "source": [
    "km = KMeans(n_clusters = 5, random_state = 42)\n",
    "y_label = km.fit_predict(data_scaled)\n",
    "data['Clusters'] = y_label\n",
    "y_label"
   ]
  },
  {
   "cell_type": "code",
   "execution_count": null,
   "id": "8eb1dcaf-fadf-41b2-b937-dfa9c8b720f2",
   "metadata": {},
   "outputs": [],
   "source": [
    "print(\"Centroid\",km.cluster_centers_)"
   ]
  },
  {
   "cell_type": "code",
   "execution_count": null,
   "id": "d9edbd1a-5ff1-4fdd-a3b0-ef53c0e69df5",
   "metadata": {},
   "outputs": [],
   "source": [
    "data.drop('Genre', axis = 1, inplace = True)\n",
    "cluster_analysis=data.groupby('Clusters').mean()\n",
    "cluster_analysis"
   ]
  },
  {
   "cell_type": "code",
   "execution_count": null,
   "id": "106d2871-656b-4dbb-a202-ea30ca0c64f0",
   "metadata": {},
   "outputs": [],
   "source": [
    "plt.figure(figsize = (18, 8))\n",
    "df1 = data[data.Clusters == 0]\n",
    "df2 = data[data.Clusters == 1]\n",
    "df3 = data[data.Clusters == 2]\n",
    "df4 = data[data.Clusters == 3]\n",
    "df5 = data[data.Clusters == 4]\n",
    "plt.scatter(df1['Annual Income (k$)'], df1['Spending Score (1-100)'], color = 'orange', label = 'Standard')\n",
    "plt.scatter(df2['Annual Income (k$)'], df2['Spending Score (1-100)'], color = 'magenta', label = 'Careless')\n",
    "plt.scatter(df3['Annual Income (k$)'], df3['Spending Score (1-100)'], color = 'green', label = 'Target Group')\n",
    "plt.scatter(df4['Annual Income (k$)'], df4['Spending Score (1-100)'], color = 'red', label = 'Careful')\n",
    "plt.scatter(df5['Annual Income (k$)'], df5['Spending Score (1-100)'], color = 'blue', label = 'Sensible')\n",
    "plt.title('Cluster Result', fontweight = 'bold', fontsize = 20)\n",
    "plt.xlabel('Annual Income')\n",
    "plt.ylabel('Spending Score')\n",
    "plt.legend(fontsize = 15)\n",
    "plt.grid(True)\n",
    "plt.show()"
   ]
  },
  {
   "cell_type": "code",
   "execution_count": null,
   "id": "d9202887-e808-41f2-a15f-daa33ecb0839",
   "metadata": {},
   "outputs": [],
   "source": [
    "from sklearn.metrics import calinski_harabasz_score, davies_bouldin_score, silhouette_score\n",
    "score_kmeans_ss = silhouette_score(data_scaled, km.labels_)\n",
    "print(score_kmeans_ss)\n",
    "score_kmeans_c = calinski_harabasz_score(data_scaled, km.labels_)\n",
    "print(score_kmeans_c)\n",
    "score_kmeans_d = davies_bouldin_score(data_scaled, km.labels_)\n",
    "print(score_kmeans_d)"
   ]
  },
  {
   "cell_type": "markdown",
   "id": "7bdbb41b-c06c-48db-aae9-980b8024e9d6",
   "metadata": {},
   "source": [
    "Silhouette Score: Measure how similar an object is within its cluster Value of this silhouette score is between -1 & +1 1 means it is a well seperated cluster 0 means overlapping clusters -1 means poor clustering\n",
    "\n",
    "Calinski-Harabasz Score: 0 & +infinity variance ratio criteria ratio = between cluster dispersion/within cluster dispersion the value is high means better is the clustering\n",
    "\n",
    "Davis Bouldin Score: 0 & +infinity average similarity between each cluster and its most similar cluster intra-cluster similarity and inter cluster differences This value should be lower for better clustering"
   ]
  }
 ],
 "metadata": {
  "kernelspec": {
   "display_name": "Python 3 (ipykernel)",
   "language": "python",
   "name": "python3"
  },
  "language_info": {
   "codemirror_mode": {
    "name": "ipython",
    "version": 3
   },
   "file_extension": ".py",
   "mimetype": "text/x-python",
   "name": "python",
   "nbconvert_exporter": "python",
   "pygments_lexer": "ipython3",
   "version": "3.9.6"
  }
 },
 "nbformat": 4,
 "nbformat_minor": 5
}
