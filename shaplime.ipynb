{
 "cells": [
  {
   "cell_type": "code",
   "execution_count": null,
   "id": "769987ee-fa1a-432b-a2e2-87cd535f5156",
   "metadata": {},
   "outputs": [],
   "source": [
    "!pip install xgboost shap lime"
   ]
  },
  {
   "cell_type": "code",
   "execution_count": null,
   "id": "54aea0fc-333a-4621-8970-f2b08aee49e9",
   "metadata": {},
   "outputs": [],
   "source": [
    "import pandas as pd\n",
    "import shap\n",
    "import xgboost\n",
    "import seaborn as sns\n",
    "import matplotlib.pyplot as plt\n",
    "\n",
    "data = pd.read_csv('')\n",
    "print(data.info())"
   ]
  },
  {
   "cell_type": "code",
   "execution_count": null,
   "id": "32f71a75-8e26-405a-a13d-64fa44f3ea85",
   "metadata": {},
   "outputs": [],
   "source": [
    "#plt.figure(figsize=(18,8))\n",
    "#sns.boxplot(data)"
   ]
  },
  {
   "cell_type": "code",
   "execution_count": null,
   "id": "4a7424bf-47b6-44da-ab3a-d09f1c30b16e",
   "metadata": {},
   "outputs": [],
   "source": [
    "import shap\n",
    "import xgboost\n",
    "import matplotlib.pyplot as plt\n",
    "\n",
    "X = data.drop(columns=['']) \n",
    "y = data['']\n",
    "\n",
    "X_train, X_test, y_train, y_test = train_test_split(X, y, test_size=0.2, random_state=42)\n",
    "\n",
    "model = xgboost.XGBRegressor(objective=\"reg:squarederror\", random_state=42)\n",
    "model.fit(X_train, y_train)\n",
    "\n",
    "explainer = shap.Explainer(model, X_train)\n",
    "shap_values = explainer(X_test)\n",
    "\n",
    "shap.summary_plot(shap_values, X_test)\n",
    "\n",
    "shap.dependence_plot(\"\", shap_values.values, X_test)\n",
    "\n",
    "\n",
    "\n"
   ]
  },
  {
   "cell_type": "code",
   "execution_count": null,
   "id": "c92742fc-1dc0-4a7e-a8b0-32796b76d6d7",
   "metadata": {},
   "outputs": [],
   "source": [
    "1) Concept/Class Description - Data can be associated with classes or concepts | class - computers, printers ; concepts - big and budget spenders\n",
    "\tData Characterisation - summarising general characteristics of a target class data | characteristics of people who spend more than 1000$\n",
    "\tData Discrimination - comparing target class with one or a set of comparative classes | compare features of products sold 10% higher vs 40% lower\n",
    "2) Mining frequent patterns, associations, or correlations - Frequent itemises, a set of items that appear frequently together, bread and jam\n",
    "3) Classification and Prediction - Finding models that describes and distinguishes data classes and concepts to predict class of objects whose class labels is unknown\n",
    "\tPredict unavailable or missing values.\n",
    "4) Cluster Analysis - Group data to form classes when class label is unknown, maximise intra class similarity and minimise inter class similarity, identify subpopulation of customers\n",
    "5) Outlier Analysis - Data that do not comply with the general behaviour or models, fraud detection\n",
    "6) Evolution Analysis - Describes and models trends whose behaviour changes over time, stock changes/evolution over time\n",
    "\n"
   ]
  },
  {
   "cell_type": "code",
   "execution_count": null,
   "id": "3b14fb2e-1180-4ac9-8690-fdcfb1f50f5d",
   "metadata": {},
   "outputs": [],
   "source": [
    "Classification of Data Mining Systems:\n",
    "Data Mining -> Database Technology, Statistics, Machine Learning, Visualization, Information Science, Other Disciplines\n",
    "Classification based on mined databases - Relational, Transactional, Object Oriented, Text, www\n",
    "Classification based on knowledge mined - Classification, regression, clustering, characterisation, discrimination\n",
    "Classification based on kinds of techniques utilised - Database oriented, OLTAP, machine learning, statistics, visualisation\n",
    "Classification based on Applications adapted - Retail, telecommunication, banking, fraud analysis, text mining, stock market analysis\n",
    "\n"
   ]
  },
  {
   "cell_type": "code",
   "execution_count": null,
   "id": "a9a992b3-b8c8-45ba-9260-5984232fbb0a",
   "metadata": {},
   "outputs": [],
   "source": [
    "Task Primitives:\n",
    "Allow users to interactively communicate with data mining systems\n",
    "1) The set of task relevant data to be mined - which portion of database to be used\n",
    "\tdatabase/warehouse name, database tables/warehouse cubes, relevant attributes\n",
    "2) The kind of knowledge to be mined - what db functions to be performed\n",
    "\tcharacterisation, discrimination, association, classification, clustering\n",
    "3) The background knowledge to be used - what domain knowledge, concept hierarchies\n",
    "\tall, age, senior, youth, 20 - 30, 50+\n",
    "4) Interestingness measures and thresholds for pattern evaluation - support, confidence, etc\n",
    "5) Visualisation methods - what form to display the results, tables charts graphs\n",
    "DMQL - Data Mining Query Language\n"
   ]
  },
  {
   "cell_type": "code",
   "execution_count": null,
   "id": "34fe661a-7c59-486b-b364-d5fabc4b5898",
   "metadata": {},
   "outputs": [],
   "source": [
    "Integration of Data Mining and Data Warehousing\n",
    "1) No coupling - Not Recommended, No communication with the database\n",
    "2) Loose Coupling - Difficult to achieve high scalability and good performance with large datasets, fetching data from db\n",
    "3) Semi tight - Enhanced DM performance, sorting, indexing, and some efficient implementations of dm functions are provided in db\n",
    "4) Tight coupling - Smooth integration of dm to db and querying Is also allowed along with everything else, Highly desirable, uniform information processing envoronment\n",
    "\n"
   ]
  },
  {
   "cell_type": "code",
   "execution_count": null,
   "id": "ccb32bed-5cee-40a3-b009-2f1e175278dd",
   "metadata": {},
   "outputs": [],
   "source": [
    "Major Issues in Data Mining:\n",
    "Mining methodology and user interaction - diff kinds of knowledge in database mining, incorporation of background knowledge, presentation and visualisation of results, handle noisy and inconsistent data, performance issues, diversity issues\n",
    "\n"
   ]
  },
  {
   "cell_type": "code",
   "execution_count": null,
   "id": "dc319a1c-6899-4bba-a43b-7df6d0d5c75a",
   "metadata": {},
   "outputs": [],
   "source": [
    "Knowledge Discovery Process:\n",
    "Learn domain -> Identify target data set -> \n",
    "Data Cleaning - Remove noise and inconsistencies\n",
    "Data Integration - Multiple data sources combined\n",
    "Data selection - Relevant data retrieval\n",
    "Data Transformation - Data transformed into forms appropriate for mining\n",
    "Data Mining - Intelligent methods applied to extract patterns\n",
    "Pattern Evaluation - identify truly interested patterns\n",
    "Knowledge presentation - visualisations and plots\n"
   ]
  },
  {
   "cell_type": "code",
   "execution_count": null,
   "id": "63fcaa6e-61aa-491b-9f2f-5ce4bd9c77eb",
   "metadata": {},
   "outputs": [],
   "source": [
    "SEMMA:\n",
    "Sample - Selecting the dataset for modelling, should not be too big or too small\n",
    "Explore - use visualisations and other methods to explore and association and relation between variables\n",
    "Modify - Select create and transform data that is appropriate for data modelling\n",
    "Models - Apply various modelling techniques on the data\n",
    "Assess - Evaluate the best model for usefulness and reliability\n",
    "    "
   ]
  },
  {
   "cell_type": "code",
   "execution_count": null,
   "id": "cd83283d-a50f-4684-aebf-bb566a2e1bcf",
   "metadata": {},
   "outputs": [],
   "source": [
    "CRISP DM:\n",
    "Business Understanding - What does the business need?\n",
    "Data Understanding - What data do we have or need? Is it Clean?\n",
    "Data Preparation - How do we organise the data for modelling?\n",
    "Modeling - What modelling techniques should we apply?\n",
    "Evaluation - Which model best meets the business objectives?\n",
    "Deployment - How do stakeholders access the results?\n"
   ]
  },
  {
   "cell_type": "code",
   "execution_count": null,
   "id": "35698d74-bcbe-4944-9c4f-65e3221cc2ab",
   "metadata": {},
   "outputs": [],
   "source": [
    "import lime\n",
    "import lime.lime_tabular\n",
    "import xgboost\n",
    "import pandas as pd\n",
    "from sklearn.model_selection import train_test_split\n",
    "\n",
    "X_train, X_test, y_train, y_test = train_test_split(X, y, test_size=0.2, random_state=42)\n",
    "\n",
    "model = xgboost.XGBRegressor(objective=\"reg:squarederror\", random_state=42)\n",
    "model.fit(X_train, y_train)\n",
    "\n",
    "explainer = lime.lime_tabular.LimeTabularExplainer(X_train.values,\n",
    "mode=\"regression\",\n",
    "training_labels=y_train,\n",
    "feature_names=X.columns.tolist())\n",
    "\n",
    "instance = X_test.iloc[0].values\n",
    "exp = explainer.explain_instance(instance, model.predict, num_features=5)\n",
    "\n",
    "exp.show_in_notebook()"
   ]
  },
  {
   "cell_type": "code",
   "execution_count": null,
   "id": "1a3e58d1-bcc9-468a-8cfc-c500df6a1adc",
   "metadata": {},
   "outputs": [],
   "source": []
  }
 ],
 "metadata": {
  "kernelspec": {
   "display_name": "Python 3 (ipykernel)",
   "language": "python",
   "name": "python3"
  },
  "language_info": {
   "codemirror_mode": {
    "name": "ipython",
    "version": 3
   },
   "file_extension": ".py",
   "mimetype": "text/x-python",
   "name": "python",
   "nbconvert_exporter": "python",
   "pygments_lexer": "ipython3",
   "version": "3.9.6"
  }
 },
 "nbformat": 4,
 "nbformat_minor": 5
}
