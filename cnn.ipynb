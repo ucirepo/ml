{
 "cells": [
  {
   "cell_type": "code",
   "execution_count": null,
   "metadata": {
    "colab": {
     "base_uri": "https://localhost:8080/"
    },
    "id": "IBa3fjWAe3Np",
    "outputId": "c990a384-3b93-4515-d467-c16b1e0f7732"
   },
   "outputs": [],
   "source": [
    "from google.colab import drive\n",
    "drive.mount('/content/drive')\n"
   ]
  },
  {
   "cell_type": "code",
   "execution_count": null,
   "metadata": {
    "colab": {
     "base_uri": "https://localhost:8080/"
    },
    "id": "KLfZwDMsgIIO",
    "outputId": "ab419451-e868-46b8-acdf-f0df91cb3cea"
   },
   "outputs": [],
   "source": [
    "!unzip '/content/drive/MyDrive/dog-cat-full-dataset-master.zip' -d '/content/'"
   ]
  },
  {
   "cell_type": "code",
   "execution_count": null,
   "metadata": {
    "colab": {
     "base_uri": "https://localhost:8080/"
    },
    "id": "_X9YhexCg_zl",
    "outputId": "b2cc7379-b0a4-4c17-af1f-770186552df7"
   },
   "outputs": [],
   "source": [
    "from keras.layers import Convolution2D,MaxPooling2D,Dense,Flatten\n",
    "from tensorflow.keras.preprocessing.image import ImageDataGenerator\n",
    "train_gen=ImageDataGenerator(rescale=1./255)\n",
    "test_gen=ImageDataGenerator(rescale=1./255)\n",
    "training_data=train_gen.flow_from_directory('/content/dog-cat-full-dataset-master/data/train',\n",
    "                                            target_size=(64,64),\n",
    "                                            batch_size=32,\n",
    "                                            class_mode='binary')\n",
    "test_data=test_gen.flow_from_directory('/content/dog-cat-full-dataset-master/data/test',\n",
    "                                       target_size=(64,64),\n",
    "                                       batch_size=32,\n",
    "                                       class_mode='binary')\n",
    "#class_mode=categorical for multiclass"
   ]
  },
  {
   "cell_type": "code",
   "execution_count": null,
   "metadata": {
    "colab": {
     "base_uri": "https://localhost:8080/"
    },
    "id": "76FNrbSHjycS",
    "outputId": "7fa93516-54b6-4b42-d793-242c79286b4e"
   },
   "outputs": [],
   "source": [
    "training_data.class_indices\n"
   ]
  },
  {
   "cell_type": "code",
   "execution_count": null,
   "metadata": {
    "colab": {
     "base_uri": "https://localhost:8080/",
     "height": 529
    },
    "id": "hHeqeFAqkE5F",
    "outputId": "653f4912-4b38-400e-d38e-9f05b91c7f22"
   },
   "outputs": [],
   "source": [
    "#build the model\n",
    "from tensorflow.keras.models import Sequential\n",
    "model=Sequential()\n",
    "#first Convolution layer\n",
    "model.add(Convolution2D(32,(3,3),activation='relu',input_shape=(64,64,3)))\n",
    "model.add(MaxPooling2D(pool_size=(2,2)))\n",
    "#second Convolution layer\n",
    "model.add(Convolution2D(64,(3,3),activation='relu'))\n",
    "model.add(MaxPooling2D(pool_size=(2,2)))\n",
    "#third convulation layer\n",
    "model.add(Convolution2D(128,(3,3),activation='relu'))\n",
    "model.add(MaxPooling2D(pool_size=(2,2)))\n",
    "model.add(Flatten())\n",
    "model.add(Dense(1024,activation='relu'))\n",
    "model.add(Dense(512,activation='relu'))\n",
    "#output layer\n",
    "model.add(Dense(1,activation='sigmoid'))\n",
    "#for binary classification\n",
    "#If multiclass model.add(Dense(3,activation='softmax))\n",
    "model.summary()\n",
    "\n"
   ]
  },
  {
   "cell_type": "code",
   "execution_count": null,
   "metadata": {
    "id": "CT5IxCPfnNpS"
   },
   "outputs": [],
   "source": [
    "model.compile(optimizer='adam',loss='binary_crossentropy',metrics=['accuracy'])\n"
   ]
  },
  {
   "cell_type": "code",
   "execution_count": null,
   "metadata": {
    "colab": {
     "base_uri": "https://localhost:8080/"
    },
    "id": "A-1YA1YNnXpT",
    "outputId": "01869c1e-7faf-4bfb-973d-4a2582dc9a44"
   },
   "outputs": [],
   "source": [
    "model.fit(training_data,epochs=20,validation_data=test_data)\n",
    "#steps_per_epoch=len(training_data)//batch_size=32"
   ]
  },
  {
   "cell_type": "code",
   "execution_count": null,
   "metadata": {
    "colab": {
     "base_uri": "https://localhost:8080/"
    },
    "id": "EmZqdCY5oQcH",
    "outputId": "dca47a6c-39c8-416e-8ed7-ca96a40da8fc"
   },
   "outputs": [],
   "source": [
    "loss,accuracy=model.evaluate(test_data)\n",
    "print('Loss=',loss)\n",
    "print('Accuracy=',accuracy)"
   ]
  },
  {
   "cell_type": "code",
   "execution_count": null,
   "metadata": {
    "colab": {
     "base_uri": "https://localhost:8080/"
    },
    "id": "p3HbVK2jobq7",
    "outputId": "a58de6e0-0f85-47d4-908b-9a3583b7385f"
   },
   "outputs": [],
   "source": [
    "import cv2\n",
    "import numpy as np\n",
    "img=cv2.imread('/content/1.jpg')\n",
    "img=cv2.resize(img,(64,64))\n",
    "img=img.astype('float32')/255.0\n",
    "img=np.expand_dims(img,axis=0)\n",
    "prediction=model.predict(img)\n",
    "if prediction[0]>0.5:\n",
    "  print('Dog')\n",
    "else:\n",
    "  print('Cat')"
   ]
  }
 ],
 "metadata": {
  "colab": {
   "provenance": []
  },
  "kernelspec": {
   "display_name": "Python 3 (ipykernel)",
   "language": "python",
   "name": "python3"
  },
  "language_info": {
   "codemirror_mode": {
    "name": "ipython",
    "version": 3
   },
   "file_extension": ".py",
   "mimetype": "text/x-python",
   "name": "python",
   "nbconvert_exporter": "python",
   "pygments_lexer": "ipython3",
   "version": "3.9.6"
  }
 },
 "nbformat": 4,
 "nbformat_minor": 4
}
