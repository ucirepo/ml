{
 "cells": [
  {
   "cell_type": "code",
   "execution_count": null,
   "id": "5e3a55fa",
   "metadata": {
    "id": "5e3a55fa",
    "outputId": "73362acb-5221-4aa8-c675-531edcdc4a9b"
   },
   "outputs": [],
   "source": [
    "import pandas as pd\n",
    "import numpy as np\n",
    "data=pd.read_csv('')\n",
    "\n",
    "data.drop(['id','Unnamed: 32'],axis=1,inplace=True)\n",
    "data.info()"
   ]
  },
  {
   "cell_type": "code",
   "execution_count": null,
   "id": "acc62e92",
   "metadata": {
    "id": "acc62e92",
    "outputId": "67210c1a-4b72-4e04-d78a-9146bf2d7495"
   },
   "outputs": [],
   "source": [
    "data_numeric_columns=data.select_dtypes(include=['int64','float64']).columns.tolist()\n",
    "data_numeric_columns\n",
    "#to select categorical columns use\n",
    "#data_cat_columns=data.select_dtypes(include=['object']).columns.tolist()\n",
    "data[data_numeric_columns]"
   ]
  },
  {
   "cell_type": "code",
   "execution_count": null,
   "id": "7a2762f9",
   "metadata": {
    "id": "7a2762f9"
   },
   "outputs": [],
   "source": [
    "X=data.drop('diagnosis',axis=1)#features\n",
    "Y=data['diagnosis'] #target column"
   ]
  },
  {
   "cell_type": "code",
   "execution_count": null,
   "id": "291016d7",
   "metadata": {
    "id": "291016d7"
   },
   "outputs": [],
   "source": [
    "#step 1 standardize the feature\n",
    "from sklearn.preprocessing import StandardScaler\n",
    "sc=StandardScaler()\n",
    "X_scaled=sc.fit_transform(X)\n"
   ]
  },
  {
   "cell_type": "code",
   "execution_count": null,
   "id": "f27593cd",
   "metadata": {
    "id": "f27593cd"
   },
   "outputs": [],
   "source": [
    "from sklearn.decomposition import PCA\n"
   ]
  },
  {
   "cell_type": "code",
   "execution_count": null,
   "id": "f3331d8e",
   "metadata": {
    "id": "f3331d8e",
    "outputId": "e1fe8421-ac23-411d-c675-c88b818db553"
   },
   "outputs": [],
   "source": [
    "X.shape"
   ]
  },
  {
   "cell_type": "code",
   "execution_count": null,
   "id": "59eee622",
   "metadata": {
    "id": "59eee622",
    "outputId": "87133134-250d-422a-ff83-4c87e44f58ec"
   },
   "outputs": [],
   "source": [
    "pca=PCA()\n",
    "pca.fit(X_scaled)\n",
    "#calculate the explained variance ratio and its cumulative sum\n",
    "cumulative_variance=pca.explained_variance_ratio_.cumsum()\n",
    "n_components=(cumulative_variance>=0.95).argmax()+1\n",
    "n_components,cumulative_variance"
   ]
  },
  {
   "cell_type": "code",
   "execution_count": null,
   "id": "412d5886",
   "metadata": {
    "id": "412d5886",
    "outputId": "cb8aacd2-0c27-4b18-e14f-f8fb1aaab58f"
   },
   "outputs": [],
   "source": [
    "import matplotlib.pyplot as plt\n",
    "explained_variance_ratio_cancer=pca.explained_variance_ratio_\n",
    "plt.figure(figsize=(18,8))\n",
    "plt.plot(np.cumsum(explained_variance_ratio_cancer),marker='o',\n",
    "         linestyle='--',label='Explained Variance Ratio cumsum')\n",
    "plt.bar(range(1,len(explained_variance_ratio_cancer)+1),\n",
    "        explained_variance_ratio_cancer,\n",
    "        alpha=0.9,label='Indivudual Component score')\n",
    "plt.title('Scree Plot')\n",
    "plt.xlabel('No. of Components')\n",
    "plt.ylabel('Explained variance ratio')\n",
    "plt.axhline(y=0.95,color='r',linestyle='--',\n",
    "            label='95% of the Explained variance ratio')\n",
    "plt.xticks(range(1,len(explained_variance_ratio_cancer)+1))\n",
    "plt.legend()\n",
    "plt.grid()\n",
    "plt.show()"
   ]
  },
  {
   "cell_type": "code",
   "execution_count": null,
   "id": "c1066bf9",
   "metadata": {
    "id": "c1066bf9"
   },
   "outputs": [],
   "source": [
    "pca=PCA(n_components=11)#no. of components +1 >0.95 10 components\n",
    "pca.fit(X_scaled)\n",
    "prop_var=pca.explained_variance_ratio_\n",
    "n_components=np.arange(pca.n_components_)+1\n",
    "\n"
   ]
  },
  {
   "cell_type": "code",
   "execution_count": null,
   "id": "c95b80d8",
   "metadata": {
    "id": "c95b80d8",
    "outputId": "25c73a7d-4e20-4fd0-f79b-799296272136"
   },
   "outputs": [],
   "source": [
    "plt.plot(n_components,prop_var,'ro-')\n",
    "plt.show()"
   ]
  },
  {
   "cell_type": "code",
   "execution_count": null,
   "id": "0e392320",
   "metadata": {
    "id": "0e392320"
   },
   "outputs": [],
   "source": [
    "#the optimal n_components is 2 as per scree plot\n",
    "pca_final=PCA(n_components=2)\n",
    "pca_components=pca_final.fit_transform(X_scaled)"
   ]
  },
  {
   "cell_type": "code",
   "execution_count": null,
   "id": "46d74fc4",
   "metadata": {
    "id": "46d74fc4",
    "outputId": "44c5d3d8-937d-48dc-ea25-9bb51076f907"
   },
   "outputs": [],
   "source": [
    "loading=pca_final.components_\n",
    "feature_names=X.columns\n",
    "pc1_loading=pd.Series(loading[0],index=feature_names)\n",
    "pc1_loading_sort=pc1_loading.abs().sort_values(ascending=False)\n",
    "print('PC1',pc1_loading_sort)\n",
    "pc2_loading=pd.Series(loading[1],index=feature_names)\n",
    "pc2_loading_sort=pc2_loading.abs().sort_values(ascending=False)\n",
    "print('PC2',pc2_loading_sort)"
   ]
  },
  {
   "cell_type": "code",
   "execution_count": null,
   "id": "bfa2a53d",
   "metadata": {
    "id": "bfa2a53d",
    "outputId": "1ec11e45-273b-44b5-e07c-759f13694b06"
   },
   "outputs": [],
   "source": [
    "import matplotlib.pyplot as plt\n",
    "import seaborn as sns\n",
    "plt.figure(figsize=(18,8))\n",
    "data_final=pd.DataFrame(data=pca_components,columns=['PC1','PC2'])\n",
    "finaldf=pd.concat([data_final,Y],axis=1)\n",
    "finaldf\n",
    "sns.scatterplot(x=finaldf['PC1'],y=finaldf['PC2'],hue=finaldf['diagnosis'],\n",
    "                palette='Set1')\n",
    "plt.xlabel('PC1')\n",
    "plt.ylabel('PC2')\n",
    "plt.show()"
   ]
  },
  {
   "cell_type": "code",
   "execution_count": null,
   "id": "c6e27f39",
   "metadata": {
    "id": "c6e27f39",
    "outputId": "85753162-9906-49c4-8900-d68494912c7b"
   },
   "outputs": [],
   "source": [
    "finaldf.info()"
   ]
  },
  {
   "cell_type": "code",
   "execution_count": null,
   "id": "2f6298dd",
   "metadata": {
    "id": "2f6298dd"
   },
   "outputs": [],
   "source": [
    "from sklearn.ensemble import RandomForestClassifier\n",
    "from sklearn.preprocessing import LabelEncoder\n",
    "X=finaldf.drop('diagnosis',axis=1)\n",
    "Y=finaldf['diagnosis']\n",
    "lbl=LabelEncoder()\n",
    "y_encoded=lbl.fit_transform(Y)"
   ]
  },
  {
   "cell_type": "code",
   "execution_count": null,
   "id": "c39112da",
   "metadata": {
    "id": "c39112da"
   },
   "outputs": [],
   "source": [
    "from sklearn.model_selection import train_test_split\n",
    "from sklearn.metrics import classification_report\n",
    "X_train,X_test,Y_train,Y_test=train_test_split(X,y_encoded,test_size=0.2,\n",
    "                                               random_state=42)\n"
   ]
  },
  {
   "cell_type": "code",
   "execution_count": null,
   "id": "071ae826",
   "metadata": {
    "id": "071ae826",
    "outputId": "584784a2-fdf7-4674-89fb-19489785d43a"
   },
   "outputs": [],
   "source": [
    "rnd=RandomForestClassifier(n_estimators=100,random_state=42)\n",
    "rnd.fit(X_train,Y_train)\n",
    "y_pred=rnd.predict(X_test)\n",
    "print(classification_report(Y_test,y_pred))"
   ]
  },
  {
   "cell_type": "code",
   "execution_count": null,
   "id": "2b4aed6d",
   "metadata": {
    "id": "2b4aed6d"
   },
   "outputs": [],
   "source": []
  }
 ],
 "metadata": {
  "colab": {
   "provenance": []
  },
  "kernelspec": {
   "display_name": "Python 3 (ipykernel)",
   "language": "python",
   "name": "python3"
  },
  "language_info": {
   "codemirror_mode": {
    "name": "ipython",
    "version": 3
   },
   "file_extension": ".py",
   "mimetype": "text/x-python",
   "name": "python",
   "nbconvert_exporter": "python",
   "pygments_lexer": "ipython3",
   "version": "3.9.6"
  }
 },
 "nbformat": 4,
 "nbformat_minor": 5
}
