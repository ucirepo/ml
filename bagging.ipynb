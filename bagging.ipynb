{
 "cells": [
  {
   "cell_type": "code",
   "execution_count": null,
   "id": "5c1b5a10",
   "metadata": {
    "id": "5c1b5a10",
    "outputId": "c3736174-1f96-481c-c6d8-6b8ff0bb8136"
   },
   "outputs": [],
   "source": [
    "import pandas as pd\n",
    "import numpy as np\n",
    "data=pd.read_csv('')\n",
    "data.info()"
   ]
  },
  {
   "cell_type": "code",
   "execution_count": null,
   "id": "02480575",
   "metadata": {
    "id": "02480575",
    "outputId": "487babd9-cf9f-4b5c-dd48-706f5e8b190e"
   },
   "outputs": [],
   "source": [
    "data.isnull().sum()"
   ]
  },
  {
   "cell_type": "code",
   "execution_count": null,
   "id": "46618426",
   "metadata": {
    "id": "46618426",
    "outputId": "7ad0069c-f169-4c67-f48d-b18337e42233"
   },
   "outputs": [],
   "source": [
    "data.isin(['',' ']).sum()\n",
    "data['TotalCharges']=pd.to_numeric(data['TotalCharges'],errors='coerce')\n",
    "print(data.isnull().sum())"
   ]
  },
  {
   "cell_type": "code",
   "execution_count": null,
   "id": "239262b0",
   "metadata": {
    "id": "239262b0",
    "outputId": "3b8a3d75-ae98-4edd-b565-75f35f5d5214"
   },
   "outputs": [],
   "source": [
    "import matplotlib.pyplot as plt\n",
    "import seaborn as sns\n",
    "sns.histplot(data['TotalCharges'],kde=True)\n",
    "plt.show() #it is skewed so fill it with median value\n",
    "from sklearn.impute import SimpleImputer\n",
    "si=SimpleImputer(strategy='median')\n",
    "data['TotalCharges']=si.fit_transform(data[['TotalCharges']])"
   ]
  },
  {
   "cell_type": "code",
   "execution_count": null,
   "id": "3a40d7a8",
   "metadata": {
    "id": "3a40d7a8",
    "outputId": "8718dd85-bcd0-42a4-c0ec-88ca5d384551"
   },
   "outputs": [],
   "source": [
    "from sklearn.preprocessing import LabelEncoder\n",
    "data.drop('customerID',axis=1,inplace=True)\n",
    "col_names=data.select_dtypes(include='object').columns\n",
    "for col in col_names:\n",
    "    lbl=LabelEncoder()\n",
    "    data[col]=lbl.fit_transform(data[col])\n",
    "data.info()"
   ]
  },
  {
   "cell_type": "code",
   "execution_count": null,
   "id": "d80f6a5c",
   "metadata": {
    "id": "d80f6a5c"
   },
   "outputs": [],
   "source": [
    "from sklearn.preprocessing import StandardScaler\n",
    "sc=StandardScaler()\n",
    "X=data.drop('Churn',axis=1)\n",
    "Y=data['Churn']"
   ]
  },
  {
   "cell_type": "code",
   "execution_count": null,
   "id": "bfeceea1",
   "metadata": {
    "id": "bfeceea1"
   },
   "outputs": [],
   "source": [
    "X_scaled=sc.fit_transform(X)\n",
    "from sklearn.model_selection import train_test_split\n",
    "from sklearn.ensemble import BaggingClassifier\n",
    "from sklearn.tree import DecisionTreeClassifier\n",
    "X_train,X_test,Y_train,Y_test=train_test_split(X_scaled,Y,test_size=0.2,\n",
    "                                               random_state=42)"
   ]
  },
  {
   "cell_type": "code",
   "execution_count": null,
   "id": "33848a23",
   "metadata": {
    "id": "33848a23",
    "outputId": "d52ec28e-fddb-47cf-f521-cede9e2c6b00"
   },
   "outputs": [],
   "source": [
    "from sklearn.metrics import accuracy_score\n",
    "from sklearn.model_selection import cross_val_score\n",
    "bag_model=BaggingClassifier(estimator=DecisionTreeClassifier(),#base model\n",
    "                           n_estimators=100,\n",
    "                           bootstrap=True,\n",
    "                           oob_score=True,#out of bag score\n",
    "                           random_state=42)\n",
    "bag_model.fit(X_train,Y_train)\n",
    "y_pred=bag_model.predict(X_test)\n",
    "print(bag_model.oob_score_)\n",
    "print(\"Accuracy Score is:\",accuracy_score(Y_test,y_pred))\n",
    "score=cross_val_score(bag_model,X,Y,cv=5)\n",
    "print(score)\n",
    "print(score.mean())\n"
   ]
  },
  {
   "cell_type": "code",
   "execution_count": null,
   "id": "c45ebca4",
   "metadata": {
    "id": "c45ebca4"
   },
   "outputs": [],
   "source": []
  }
 ],
 "metadata": {
  "colab": {
   "provenance": []
  },
  "kernelspec": {
   "display_name": "Python 3 (ipykernel)",
   "language": "python",
   "name": "python3"
  },
  "language_info": {
   "codemirror_mode": {
    "name": "ipython",
    "version": 3
   },
   "file_extension": ".py",
   "mimetype": "text/x-python",
   "name": "python",
   "nbconvert_exporter": "python",
   "pygments_lexer": "ipython3",
   "version": "3.9.6"
  }
 },
 "nbformat": 4,
 "nbformat_minor": 5
}
