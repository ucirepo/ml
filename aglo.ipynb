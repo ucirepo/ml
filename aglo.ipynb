{
 "cells": [
  {
   "cell_type": "code",
   "execution_count": null,
   "id": "93ddc9cf-ccd0-4f3b-b1f8-8c20ef2e87fa",
   "metadata": {},
   "outputs": [],
   "source": [
    "import pandas as pd\n",
    "import numpy as np\n",
    "data = pd.read_csv('')\n",
    "data.info()"
   ]
  },
  {
   "cell_type": "code",
   "execution_count": null,
   "id": "8aa9c676-fe61-41c8-a628-a5c772339353",
   "metadata": {},
   "outputs": [],
   "source": [
    "data.drop(['CustomerID', 'Genre'], axis = 1, inplace = True)\n",
    "\n",
    "from sklearn.cluster import AgglomerativeClustering\n",
    "import scipy.cluster.hierarchy as sch\n",
    "from sklearn.metrics import silhouette_score,davies_bouldin_score,calinski_harabasz_score\n",
    "import matplotlib.pyplot as plt\n",
    "plt.figure(figsize = (18, 8))\n",
    "dendragrams = sch.dendrogram(sch.linkage(data, method = 'ward'))\n",
    "plt.title('Dendrograms')\n",
    "plt.xlabel('Customer No.')\n",
    "plt.ylabel('Eucledian Distance')\n",
    "plt.xticks(rotation = 90)\n",
    "plt.show()"
   ]
  },
  {
   "cell_type": "code",
   "execution_count": null,
   "id": "c1e509fa-f0de-4c7f-ad24-f49400b3a3cd",
   "metadata": {},
   "outputs": [],
   "source": [
    "from sklearn.metrics import silhouette_score\n",
    "n_clust = range(2, 8)\n",
    "ss_score = []\n",
    "for c in n_clust:\n",
    "    ag_model = AgglomerativeClustering(n_clusters = c, metric = 'euclidean', linkage = 'ward')\n",
    "    label = ag_model.fit_predict(data)\n",
    "    ss_score.append(silhouette_score(data, ag_model.labels_))\n",
    "data_score = pd.DataFrame({'clusters': n_clust, 'score': ss_score})\n",
    "data_score"
   ]
  },
  {
   "cell_type": "code",
   "execution_count": null,
   "id": "ae24d5aa-9b06-4f68-bb68-1b78e927660f",
   "metadata": {},
   "outputs": [],
   "source": [
    "ag_model = AgglomerativeClustering(n_clusters = 5, metric = 'euclidean', linkage = 'ward')\n",
    "\n",
    "data['Cluster'] = label\n",
    "\n",
    "cluster_analysis = data.groupby('Cluster').mean()\n",
    "print(cluster_analysis)"
   ]
  },
  {
   "cell_type": "code",
   "execution_count": null,
   "id": "1f696637-7d40-4c50-8c2e-558732557c99",
   "metadata": {},
   "outputs": [],
   "source": [
    "print('Silhouette Score: ', silhouette_score(data, label))\n",
    "print('Davies Score: ', davies_bouldin_score(data, label))\n",
    "print('Calinski Score: ', calinski_harabasz_score(data, label))"
   ]
  }
 ],
 "metadata": {
  "kernelspec": {
   "display_name": "Python 3 (ipykernel)",
   "language": "python",
   "name": "python3"
  },
  "language_info": {
   "codemirror_mode": {
    "name": "ipython",
    "version": 3
   },
   "file_extension": ".py",
   "mimetype": "text/x-python",
   "name": "python",
   "nbconvert_exporter": "python",
   "pygments_lexer": "ipython3",
   "version": "3.9.6"
  }
 },
 "nbformat": 4,
 "nbformat_minor": 5
}
